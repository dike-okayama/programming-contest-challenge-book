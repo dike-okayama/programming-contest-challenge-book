{
 "cells": [
  {
   "attachments": {},
   "cell_type": "markdown",
   "metadata": {},
   "source": [
    "# 3-3 さまざまなデータ構造を操ろう"
   ]
  },
  {
   "attachments": {},
   "cell_type": "markdown",
   "metadata": {},
   "source": [
    "## セグメント木"
   ]
  },
  {
   "attachments": {},
   "cell_type": "markdown",
   "metadata": {},
   "source": [
    "**SegmentTree**とは区間に対する操作を効率的に行うデータ構造である．\n",
    "\n",
    "- 区間和\n",
    "- 区間最小値\n",
    "- 区間更新 etc."
   ]
  },
  {
   "attachments": {},
   "cell_type": "markdown",
   "metadata": {},
   "source": [
    "![SegTree](assets/3-3/1-1_segtree.png)"
   ]
  },
  {
   "attachments": {},
   "cell_type": "markdown",
   "metadata": {},
   "source": [
    "ここでは区間最小値(RMQ: **R**ange **M**inimum **Q**uery)を例にセグメント木を考える．\n",
    "\n",
    "$a_{0},a_{1},...,a{n-1}$に対して，次の操作を効率的に行うことを目指す．\n",
    "\n",
    "- $\\underset{s\\le i\\le t}{\\min}a_{i}$を求める\n",
    "- $a_{i}=x$と更新する"
   ]
  },
  {
   "attachments": {},
   "cell_type": "markdown",
   "metadata": {},
   "source": [
    "各ノードは対応する区間の最小値を持つ．\n",
    "\n",
    "![SegTree_RMQ](assets/3-3/1-2_segtree_rmq.png)"
   ]
  },
  {
   "attachments": {},
   "cell_type": "markdown",
   "metadata": {},
   "source": [
    "### セグメント木によるRMQのクエリ"
   ]
  },
  {
   "attachments": {},
   "cell_type": "markdown",
   "metadata": {},
   "source": [
    "$a_{0},a_{1},...,a_{6}$の最小値を得るには，次の3つのノードを参照する．\n",
    "\n",
    "![SegTree_RMQ_ex](assets/3-3/1-3_segtree_rmq_ex.png)"
   ]
  },
  {
   "attachments": {},
   "cell_type": "markdown",
   "metadata": {},
   "source": [
    "ある区間の最小値は次のように再帰的に求める\n",
    "\n",
    "- 与えられた区間とそのノードの区間が全く交差していなければ，最小値に影響しない値を返す\n",
    "- 与えられた区間が完全にそのノードの区間を含むようなノードであれば，そのノードの持つ値を返す\n",
    "- そうでなければ，2つの子ノードについて再帰的に計算し，その2つの値の最小値を返す\n"
   ]
  },
  {
   "attachments": {},
   "cell_type": "markdown",
   "metadata": {},
   "source": [
    "![SegTree_RMQ_ex1](assets/3-3/1-3-1_segtree_rmq_ex1.png)  \n",
    "再帰は根ノードからスタートする．与えられた区間が一部ノードの区間を含んでいるため，2つの子ノードについて考える．\n",
    "\n",
    "![SegTree_RMQ_ex2](assets/3-3/1-3-2_segtree_rmq_ex2.png)  \n",
    "左ノードについて，与えられた区間がノードの区間を完全に含んでいるので値3を返す．  \n",
    "右ノードについて，与えられた区間が一部ノードの区間を含んでいるため，2つの子ノードについて考える．\n",
    "\n",
    "![SegTree_RMQ_ex3](assets/3-3/1-3-3_segtree_rmq_ex3.png)  \n",
    "左ノードについて，与えられた区間がノードの区間を完全に含んでいるので値4を返す．  \n",
    "右ノードについて，与えられた区間が一部ノードの区間を含んでいるため，2つの子ノードについて考える．\n",
    "\n",
    "![SegTree_RMQ_ex4](assets/3-3/1-3-4_segtree_rmq_ex4.png)  \n",
    "左ノードについて，与えられた区間がノードの区間を完全に含んでいるので値1を返す．  \n",
    "右ノードについて，与えられた区間とノードの区間が全く交差していないので，最小値に影響しない値を返す．\n",
    "\n",
    "![SegTree_RMQ_ex5](assets/3-3/1-3-5_segtree_rmq_ex5.png)  \n",
    "$\\min(\\min(\\min(1, \\inf), 4), 3)$を再帰的に計算し，最小値1を得る．"
   ]
  },
  {
   "attachments": {},
   "cell_type": "markdown",
   "metadata": {},
   "source": [
    "### セグメント木によるRMQの値の更新"
   ]
  },
  {
   "attachments": {},
   "cell_type": "markdown",
   "metadata": {},
   "source": [
    "$a_{0}$の値を更新する際は，次の4つのノードを再計算する．\n",
    "\n",
    "![SegTree_update](assets/3-3/1-4_segtree_update.png)\n",
    "\n",
    "\n",
    "場所$i$の値を更新する際には，$i$を含む区間に対応する全てのノードについて値を計算しなおす必要がある．更新したいノードから親を辿ってき，各親の子の最小値へと更新すればよい．（各親ノードを更新する値と比較するのは間違いであることに注意する）"
   ]
  },
  {
   "attachments": {},
   "cell_type": "markdown",
   "metadata": {},
   "source": [
    "### セグメント木によるRMQの計算量"
   ]
  },
  {
   "attachments": {},
   "cell_type": "markdown",
   "metadata": {},
   "source": [
    "いずれの処理も高々深さの数程度のノードしか訪れない．よって$O(\\log{n})$\n",
    "\n",
    "木の初期化及び空間計算量は$O(n)$なので注意．"
   ]
  },
  {
   "attachments": {},
   "cell_type": "markdown",
   "metadata": {},
   "source": [
    "### セグメント木によるRMQの実装\n",
    "\n",
    "- 簡単のため要素数を2のべき乗に調整\n",
    "- 木は配列で管理，長さは(要素数)×2-1\n",
    "- 各ノードと配列上のインデックスの対応\n",
    "\n",
    "![SegTree_implementation](assets/3-3/1-5_segtree_implementation.png)"
   ]
  },
  {
   "cell_type": "code",
   "execution_count": 2,
   "metadata": {},
   "outputs": [],
   "source": [
    "# Segment Tree (RMQ)\n",
    "\n",
    "from typing import Callable\n",
    "\n",
    "\n",
    "class SegmentTree:\n",
    "    '''Provides single point addition and obtaining the total product of a segment in O(logN)'''\n",
    "    def __init__(self, n: int, op: Callable[[int, int], int], e: int) -> None:\n",
    "        self.n = 1\n",
    "        while self.n < n:\n",
    "            self.n *= 2\n",
    "        self.a: list[int] = [e] * (2 * self.n - 1)\n",
    "        self.op: Callable[[int, int], int] = op\n",
    "        self.e: int = e\n",
    "\n",
    "    def update(self, i: int, x: int) -> None:\n",
    "        '''a[i] = x'''\n",
    "        i += self.n - 1\n",
    "        self.a[i] = x\n",
    "        while i > 0:\n",
    "            i = (i - 1) // 2\n",
    "            self.a[i] = self.op(self.a[i * 2 + 1], self.a[i * 2 + 2])\n",
    "\n",
    "    def query(self, l: int, r: int, temp_i: int = 0, check_l: int = 0, check_r: int = None) -> int:\n",
    "        '''op(a[l], a[l + 1], ..., a[r])'''\n",
    "        if check_r is None:\n",
    "            check_r = self.n\n",
    "\n",
    "        if check_r <= l or r <= check_l:\n",
    "            return self.e\n",
    "        if l <= check_l and check_r <= r:\n",
    "            return self.a[temp_i]\n",
    "        else:\n",
    "            return self.op(\n",
    "                self.query(l, r, temp_i * 2 + 1, check_l, (check_l + check_r) // 2),\n",
    "                self.query(l, r, temp_i * 2 + 2, (check_l + check_r) // 2 + check_r)\n",
    "            )"
   ]
  },
  {
   "cell_type": "code",
   "execution_count": 3,
   "metadata": {},
   "outputs": [
    {
     "data": {
      "image/svg+xml": "<?xml version=\"1.0\" encoding=\"UTF-8\" standalone=\"no\"?>\n<!DOCTYPE svg PUBLIC \"-//W3C//DTD SVG 1.1//EN\"\n \"http://www.w3.org/Graphics/SVG/1.1/DTD/svg11.dtd\">\n<!-- Generated by graphviz version 7.0.4 (20221203.1631)\n -->\n<!-- Pages: 1 -->\n<svg width=\"566pt\" height=\"260pt\"\n viewBox=\"0.00 0.00 566.00 260.00\" xmlns=\"http://www.w3.org/2000/svg\" xmlns:xlink=\"http://www.w3.org/1999/xlink\">\n<g id=\"graph0\" class=\"graph\" transform=\"scale(1 1) rotate(0) translate(4 256)\">\n<polygon fill=\"white\" stroke=\"none\" points=\"-4,4 -4,-256 562,-256 562,4 -4,4\"/>\n<!-- 0 -->\n<g id=\"node1\" class=\"node\">\n<title>0</title>\n<ellipse fill=\"none\" stroke=\"black\" cx=\"279\" cy=\"-234\" rx=\"27\" ry=\"18\"/>\n<text text-anchor=\"middle\" x=\"279\" y=\"-230.3\" font-family=\"Times New Roman,serif\" font-size=\"14.00\">0</text>\n</g>\n<!-- 1 -->\n<g id=\"node2\" class=\"node\">\n<title>1</title>\n<ellipse fill=\"none\" stroke=\"black\" cx=\"207\" cy=\"-162\" rx=\"27\" ry=\"18\"/>\n<text text-anchor=\"middle\" x=\"207\" y=\"-158.3\" font-family=\"Times New Roman,serif\" font-size=\"14.00\">2</text>\n</g>\n<!-- 0&#45;&gt;1 -->\n<g id=\"edge1\" class=\"edge\">\n<title>0&#45;&gt;1</title>\n<path fill=\"none\" stroke=\"black\" d=\"M264.08,-218.5C254.23,-208.92 241.14,-196.19 229.97,-185.34\"/>\n<polygon fill=\"black\" stroke=\"black\" points=\"232.59,-183 222.98,-178.54 227.71,-188.02 232.59,-183\"/>\n</g>\n<!-- 2 -->\n<g id=\"node3\" class=\"node\">\n<title>2</title>\n<ellipse fill=\"none\" stroke=\"black\" cx=\"351\" cy=\"-162\" rx=\"27\" ry=\"18\"/>\n<text text-anchor=\"middle\" x=\"351\" y=\"-158.3\" font-family=\"Times New Roman,serif\" font-size=\"14.00\">0</text>\n</g>\n<!-- 0&#45;&gt;2 -->\n<g id=\"edge2\" class=\"edge\">\n<title>0&#45;&gt;2</title>\n<path fill=\"none\" stroke=\"black\" d=\"M293.92,-218.5C303.77,-208.92 316.86,-196.19 328.03,-185.34\"/>\n<polygon fill=\"black\" stroke=\"black\" points=\"330.29,-188.02 335.02,-178.54 325.41,-183 330.29,-188.02\"/>\n</g>\n<!-- 3 -->\n<g id=\"node4\" class=\"node\">\n<title>3</title>\n<ellipse fill=\"none\" stroke=\"black\" cx=\"99\" cy=\"-90\" rx=\"27\" ry=\"18\"/>\n<text text-anchor=\"middle\" x=\"99\" y=\"-86.3\" font-family=\"Times New Roman,serif\" font-size=\"14.00\">3</text>\n</g>\n<!-- 1&#45;&gt;3 -->\n<g id=\"edge3\" class=\"edge\">\n<title>1&#45;&gt;3</title>\n<path fill=\"none\" stroke=\"black\" d=\"M188.19,-148.81C171.41,-137.93 146.61,-121.86 127.41,-109.42\"/>\n<polygon fill=\"black\" stroke=\"black\" points=\"129.52,-106.61 119.23,-104.11 125.72,-112.49 129.52,-106.61\"/>\n</g>\n<!-- 4 -->\n<g id=\"node5\" class=\"node\">\n<title>4</title>\n<ellipse fill=\"none\" stroke=\"black\" cx=\"207\" cy=\"-90\" rx=\"27\" ry=\"18\"/>\n<text text-anchor=\"middle\" x=\"207\" y=\"-86.3\" font-family=\"Times New Roman,serif\" font-size=\"14.00\">2</text>\n</g>\n<!-- 1&#45;&gt;4 -->\n<g id=\"edge4\" class=\"edge\">\n<title>1&#45;&gt;4</title>\n<path fill=\"none\" stroke=\"black\" d=\"M207,-143.7C207,-136.41 207,-127.73 207,-119.54\"/>\n<polygon fill=\"black\" stroke=\"black\" points=\"210.5,-119.62 207,-109.62 203.5,-119.62 210.5,-119.62\"/>\n</g>\n<!-- 5 -->\n<g id=\"node6\" class=\"node\">\n<title>5</title>\n<ellipse fill=\"none\" stroke=\"black\" cx=\"351\" cy=\"-90\" rx=\"27\" ry=\"18\"/>\n<text text-anchor=\"middle\" x=\"351\" y=\"-86.3\" font-family=\"Times New Roman,serif\" font-size=\"14.00\">0</text>\n</g>\n<!-- 2&#45;&gt;5 -->\n<g id=\"edge5\" class=\"edge\">\n<title>2&#45;&gt;5</title>\n<path fill=\"none\" stroke=\"black\" d=\"M351,-143.7C351,-136.41 351,-127.73 351,-119.54\"/>\n<polygon fill=\"black\" stroke=\"black\" points=\"354.5,-119.62 351,-109.62 347.5,-119.62 354.5,-119.62\"/>\n</g>\n<!-- 6 -->\n<g id=\"node7\" class=\"node\">\n<title>6</title>\n<ellipse fill=\"none\" stroke=\"black\" cx=\"459\" cy=\"-90\" rx=\"27\" ry=\"18\"/>\n<text text-anchor=\"middle\" x=\"459\" y=\"-86.3\" font-family=\"Times New Roman,serif\" font-size=\"14.00\">inf</text>\n</g>\n<!-- 2&#45;&gt;6 -->\n<g id=\"edge6\" class=\"edge\">\n<title>2&#45;&gt;6</title>\n<path fill=\"none\" stroke=\"black\" d=\"M369.81,-148.81C386.59,-137.93 411.39,-121.86 430.59,-109.42\"/>\n<polygon fill=\"black\" stroke=\"black\" points=\"432.28,-112.49 438.77,-104.11 428.48,-106.61 432.28,-112.49\"/>\n</g>\n<!-- 7 -->\n<g id=\"node8\" class=\"node\">\n<title>7</title>\n<ellipse fill=\"none\" stroke=\"black\" cx=\"27\" cy=\"-18\" rx=\"27\" ry=\"18\"/>\n<text text-anchor=\"middle\" x=\"27\" y=\"-14.3\" font-family=\"Times New Roman,serif\" font-size=\"14.00\">3</text>\n</g>\n<!-- 3&#45;&gt;7 -->\n<g id=\"edge7\" class=\"edge\">\n<title>3&#45;&gt;7</title>\n<path fill=\"none\" stroke=\"black\" d=\"M84.08,-74.5C74.23,-64.92 61.14,-52.19 49.97,-41.34\"/>\n<polygon fill=\"black\" stroke=\"black\" points=\"52.59,-39 42.98,-34.54 47.71,-44.02 52.59,-39\"/>\n</g>\n<!-- 8 -->\n<g id=\"node9\" class=\"node\">\n<title>8</title>\n<ellipse fill=\"none\" stroke=\"black\" cx=\"99\" cy=\"-18\" rx=\"27\" ry=\"18\"/>\n<text text-anchor=\"middle\" x=\"99\" y=\"-14.3\" font-family=\"Times New Roman,serif\" font-size=\"14.00\">inf</text>\n</g>\n<!-- 3&#45;&gt;8 -->\n<g id=\"edge8\" class=\"edge\">\n<title>3&#45;&gt;8</title>\n<path fill=\"none\" stroke=\"black\" d=\"M99,-71.7C99,-64.41 99,-55.73 99,-47.54\"/>\n<polygon fill=\"black\" stroke=\"black\" points=\"102.5,-47.62 99,-37.62 95.5,-47.62 102.5,-47.62\"/>\n</g>\n<!-- 9 -->\n<g id=\"node10\" class=\"node\">\n<title>9</title>\n<ellipse fill=\"none\" stroke=\"black\" cx=\"171\" cy=\"-18\" rx=\"27\" ry=\"18\"/>\n<text text-anchor=\"middle\" x=\"171\" y=\"-14.3\" font-family=\"Times New Roman,serif\" font-size=\"14.00\">inf</text>\n</g>\n<!-- 4&#45;&gt;9 -->\n<g id=\"edge9\" class=\"edge\">\n<title>4&#45;&gt;9</title>\n<path fill=\"none\" stroke=\"black\" d=\"M198.65,-72.76C194.42,-64.55 189.19,-54.37 184.42,-45.09\"/>\n<polygon fill=\"black\" stroke=\"black\" points=\"187.68,-43.79 180,-36.49 181.46,-46.99 187.68,-43.79\"/>\n</g>\n<!-- 10 -->\n<g id=\"node11\" class=\"node\">\n<title>10</title>\n<ellipse fill=\"none\" stroke=\"black\" cx=\"243\" cy=\"-18\" rx=\"27\" ry=\"18\"/>\n<text text-anchor=\"middle\" x=\"243\" y=\"-14.3\" font-family=\"Times New Roman,serif\" font-size=\"14.00\">2</text>\n</g>\n<!-- 4&#45;&gt;10 -->\n<g id=\"edge10\" class=\"edge\">\n<title>4&#45;&gt;10</title>\n<path fill=\"none\" stroke=\"black\" d=\"M215.35,-72.76C219.58,-64.55 224.81,-54.37 229.58,-45.09\"/>\n<polygon fill=\"black\" stroke=\"black\" points=\"232.54,-46.99 234,-36.49 226.32,-43.79 232.54,-46.99\"/>\n</g>\n<!-- 11 -->\n<g id=\"node12\" class=\"node\">\n<title>11</title>\n<ellipse fill=\"none\" stroke=\"black\" cx=\"315\" cy=\"-18\" rx=\"27\" ry=\"18\"/>\n<text text-anchor=\"middle\" x=\"315\" y=\"-14.3\" font-family=\"Times New Roman,serif\" font-size=\"14.00\">inf</text>\n</g>\n<!-- 5&#45;&gt;11 -->\n<g id=\"edge11\" class=\"edge\">\n<title>5&#45;&gt;11</title>\n<path fill=\"none\" stroke=\"black\" d=\"M342.65,-72.76C338.42,-64.55 333.19,-54.37 328.42,-45.09\"/>\n<polygon fill=\"black\" stroke=\"black\" points=\"331.68,-43.79 324,-36.49 325.46,-46.99 331.68,-43.79\"/>\n</g>\n<!-- 12 -->\n<g id=\"node13\" class=\"node\">\n<title>12</title>\n<ellipse fill=\"none\" stroke=\"black\" cx=\"387\" cy=\"-18\" rx=\"27\" ry=\"18\"/>\n<text text-anchor=\"middle\" x=\"387\" y=\"-14.3\" font-family=\"Times New Roman,serif\" font-size=\"14.00\">0</text>\n</g>\n<!-- 5&#45;&gt;12 -->\n<g id=\"edge12\" class=\"edge\">\n<title>5&#45;&gt;12</title>\n<path fill=\"none\" stroke=\"black\" d=\"M359.35,-72.76C363.58,-64.55 368.81,-54.37 373.58,-45.09\"/>\n<polygon fill=\"black\" stroke=\"black\" points=\"376.54,-46.99 378,-36.49 370.32,-43.79 376.54,-46.99\"/>\n</g>\n<!-- 13 -->\n<g id=\"node14\" class=\"node\">\n<title>13</title>\n<ellipse fill=\"none\" stroke=\"black\" cx=\"459\" cy=\"-18\" rx=\"27\" ry=\"18\"/>\n<text text-anchor=\"middle\" x=\"459\" y=\"-14.3\" font-family=\"Times New Roman,serif\" font-size=\"14.00\">inf</text>\n</g>\n<!-- 6&#45;&gt;13 -->\n<g id=\"edge13\" class=\"edge\">\n<title>6&#45;&gt;13</title>\n<path fill=\"none\" stroke=\"black\" d=\"M459,-71.7C459,-64.41 459,-55.73 459,-47.54\"/>\n<polygon fill=\"black\" stroke=\"black\" points=\"462.5,-47.62 459,-37.62 455.5,-47.62 462.5,-47.62\"/>\n</g>\n<!-- 14 -->\n<g id=\"node15\" class=\"node\">\n<title>14</title>\n<ellipse fill=\"none\" stroke=\"black\" cx=\"531\" cy=\"-18\" rx=\"27\" ry=\"18\"/>\n<text text-anchor=\"middle\" x=\"531\" y=\"-14.3\" font-family=\"Times New Roman,serif\" font-size=\"14.00\">inf</text>\n</g>\n<!-- 6&#45;&gt;14 -->\n<g id=\"edge14\" class=\"edge\">\n<title>6&#45;&gt;14</title>\n<path fill=\"none\" stroke=\"black\" d=\"M473.92,-74.5C483.77,-64.92 496.86,-52.19 508.03,-41.34\"/>\n<polygon fill=\"black\" stroke=\"black\" points=\"510.29,-44.02 515.02,-34.54 505.41,-39 510.29,-44.02\"/>\n</g>\n</g>\n</svg>\n",
      "text/plain": [
       "<graphviz.graphs.Digraph at 0x15376ab6b30>"
      ]
     },
     "metadata": {},
     "output_type": "display_data"
    },
    {
     "data": {
      "text/plain": [
       "2"
      ]
     },
     "execution_count": 3,
     "metadata": {},
     "output_type": "execute_result"
    }
   ],
   "source": [
    "\n",
    "import graphviz\n",
    "\n",
    "\n",
    "def visualize_segtree(seg):\n",
    "    dot = graphviz.Digraph()\n",
    "    for i in range(seg.n - 1):\n",
    "        dot.edge(str(i), str(2 * i + 1))\n",
    "        dot.edge(str(i), str(2 * i + 2))\n",
    "    for i in range(2 * seg.n - 1):\n",
    "        dot.node(str(i), label=str(seg.a[i]))\n",
    "    display(dot)\n",
    "\n",
    "\n",
    "seg = SegmentTree(n=8, e=float('inf'), op=min)  # [inf, inf, inf, inf, inf, inf, inf, inf]\n",
    "seg.update(0, 3)  # [3, inf, inf, inf, inf, inf, inf, inf]\n",
    "seg.update(3, 2)  # [3, inf, inf, 2, inf, inf, inf, inf]\n",
    "seg.update(5, 0)  # [3, inf, inf, 2, inf, 0, inf, inf]\n",
    "visualize_segtree(seg)\n",
    "seg.query(0, 4)  # min([3, inf, inf, 2, inf])"
   ]
  },
  {
   "attachments": {},
   "cell_type": "markdown",
   "metadata": {},
   "source": [
    "### セグメント木を用いる問題"
   ]
  },
  {
   "cell_type": "code",
   "execution_count": 3,
   "metadata": {},
   "outputs": [
    {
     "data": {
      "text/plain": [
       "Ellipsis"
      ]
     },
     "execution_count": 3,
     "metadata": {},
     "output_type": "execute_result"
    }
   ],
   "source": [
    "# Crane\n",
    "\n",
    "..."
   ]
  },
  {
   "attachments": {},
   "cell_type": "markdown",
   "metadata": {},
   "source": [
    "## Binary Indexed Tree（Fenwick木）"
   ]
  },
  {
   "attachments": {},
   "cell_type": "markdown",
   "metadata": {},
   "source": [
    "**BIT**とは列$a_{1},a_{2},...,a_{n}$があり，はじめは全ての$a_{i}=0$として，\n",
    "\n",
    "- $add(i, x): a_{i} += x$\n",
    "- $sum(i): a_{1}+a_{2}+...+a_{i}$\n",
    "\n",
    "を実現するデータ構造である．"
   ]
  },
  {
   "attachments": {},
   "cell_type": "markdown",
   "metadata": {},
   "source": [
    "### Segment Treeによる実装"
   ]
  },
  {
   "attachments": {},
   "cell_type": "markdown",
   "metadata": {},
   "source": [
    "![SegTree](assets/3-3/2-1_segtree.png)"
   ]
  },
  {
   "attachments": {},
   "cell_type": "markdown",
   "metadata": {},
   "source": [
    "$sum(7)$ -> $24+10+1=37$  \n",
    "![SegTree_sum](assets/3-3/2-2_segtree_sum.png)"
   ]
  },
  {
   "attachments": {},
   "cell_type": "markdown",
   "metadata": {},
   "source": [
    "$add(1, 2)$  \n",
    "![SegTree_add](assets/3-3/2-3_segtree_add.png)"
   ]
  },
  {
   "attachments": {},
   "cell_type": "markdown",
   "metadata": {},
   "source": [
    "$a_{s},a_{s+1},...,a_{t}$を求める場合は$sum(t) - sum(s - 1)$を計算すればよく，区間和の計算にそういった制限を設けると，各クエリで右の子ノードは参照されなくなる．\n",
    "\n",
    "![_](assets/3-3/2-4_unecessay_nodes.png)"
   ]
  },
  {
   "attachments": {},
   "cell_type": "markdown",
   "metadata": {},
   "source": [
    "この考え方を元にしたデータ構造がBITである．"
   ]
  },
  {
   "attachments": {},
   "cell_type": "markdown",
   "metadata": {},
   "source": [
    "### BITの仕組み"
   ]
  },
  {
   "attachments": {},
   "cell_type": "markdown",
   "metadata": {},
   "source": [
    "![BIT](assets/3-3/2-5_bit.png)\n",
    "\n",
    "**POINT**  \n",
    "- 2進表記されたノード番号の末尾の0の個数 = 区間の長さ - 1"
   ]
  },
  {
   "attachments": {},
   "cell_type": "markdown",
   "metadata": {},
   "source": [
    "### sum(i)"
   ]
  },
  {
   "attachments": {},
   "cell_type": "markdown",
   "metadata": {},
   "source": [
    "$i$ から $0$ に辿り着くまで，$i$より最後の$1$のビットを減算しながら，$i$の場所の値を加算していく．\n",
    "\n",
    "![BIT_sum](assets/3-3/2-6_bit_sum.png)"
   ]
  },
  {
   "attachments": {},
   "cell_type": "markdown",
   "metadata": {},
   "source": [
    "### add(i, x)"
   ]
  },
  {
   "attachments": {},
   "cell_type": "markdown",
   "metadata": {},
   "source": [
    "$i$から始めて，$i$に最後の1のビットを加算しながら，$i$の場所の値に$x$を加えていく．\n",
    "\n",
    "![BIT_add](assets/3-3/2-7_bit_add.png)"
   ]
  },
  {
   "cell_type": "code",
   "execution_count": 4,
   "metadata": {},
   "outputs": [],
   "source": [
    "# BIT\n",
    "\n",
    "class BIT:\n",
    "    '''Provides single point addition and interval summation in O(logN)'''\n",
    "    def __init__(self, n: int) -> None:\n",
    "        self._n: int = n\n",
    "        self._a: list[int] = [0] * (n + 1)\n",
    "\n",
    "    def sum(self, i: int) -> None:\n",
    "        '''a[1] + a[2] + ... + a[i]'''\n",
    "        s: int = 0\n",
    "        while i > 0:\n",
    "            s += self._a[i]\n",
    "            i = i & (i - 1)\n",
    "        return s\n",
    "\n",
    "    def add(self, i: int, x: int) -> None:\n",
    "        '''a[i] += x'''\n",
    "        while i <= self._n:\n",
    "            self._a[i] += x\n",
    "            i += i & -i"
   ]
  },
  {
   "cell_type": "code",
   "execution_count": 5,
   "metadata": {},
   "outputs": [
    {
     "data": {
      "text/plain": [
       "7"
      ]
     },
     "execution_count": 5,
     "metadata": {},
     "output_type": "execute_result"
    }
   ],
   "source": [
    "bit = BIT(8)  # [0, 0, 0, 0, 0, 0, 0, 0]\n",
    "bit.add(1, 3) # [3, 0, 0, 0, 0, 0, 0, 0]\n",
    "bit.add(3, 4) # [3, 0, 4, 0, 0, 0, 0, 0]\n",
    "bit.add(5, 5) # [3, 0, 4, 0, 5, 0, 0, 0]\n",
    "bit.sum(4)"
   ]
  },
  {
   "cell_type": "code",
   "execution_count": null,
   "metadata": {},
   "outputs": [
    {
     "data": {
      "text/plain": [
       "Ellipsis"
      ]
     },
     "execution_count": 6,
     "metadata": {},
     "output_type": "execute_result"
    }
   ],
   "source": [
    "# バブルソートの交換回数\n",
    "\n",
    "..."
   ]
  },
  {
   "cell_type": "code",
   "execution_count": 7,
   "metadata": {},
   "outputs": [
    {
     "data": {
      "text/plain": [
       "Ellipsis"
      ]
     },
     "execution_count": 7,
     "metadata": {},
     "output_type": "execute_result"
    }
   ],
   "source": [
    "# A Simple Problem with Integers\n",
    "\n",
    "..."
   ]
  },
  {
   "attachments": {},
   "cell_type": "markdown",
   "metadata": {},
   "source": [
    "## バケット法と平方分割"
   ]
  },
  {
   "attachments": {},
   "cell_type": "markdown",
   "metadata": {},
   "source": [
    "バケット法(bucket method)とは，列や平面をバケットなる単位に分割して，バケットごとにデータを管理することにより効率的な計算や操作を行う手法である．\n",
    "\n",
    "特に，平方分割(sqrt decomposition)と呼ばれる，$n$個の要素からなる列を$\\sqrt{n}$程度ごとのバケットにまとめて管理する手法を用いると，区間に対する処理が$O(\\sqrt{n})$程度で行えるようになる．"
   ]
  },
  {
   "attachments": {},
   "cell_type": "markdown",
   "metadata": {},
   "source": [
    "### 平方分割によるRMQ"
   ]
  },
  {
   "attachments": {},
   "cell_type": "markdown",
   "metadata": {},
   "source": [
    "数列$a_{1},a_{2},...,a_{n}$があるとき，次の2つの処理を$O(\\sqrt{n})$で実現することを目指す．\n",
    "\n",
    "- $\\underset{s\\le i\\le t}{\\min}a_{i}$を求める\n",
    "- $a_{i}=x$を行う（1点更新）"
   ]
  },
  {
   "attachments": {},
   "cell_type": "markdown",
   "metadata": {},
   "source": [
    "### 平方分割によるRMQの前処理"
   ]
  },
  {
   "attachments": {},
   "cell_type": "markdown",
   "metadata": {},
   "source": [
    "$b=\\lfloor\\sqrt{n}\\rfloor$とし，$a$を$b$ごとのバケットに分け，各バケットでの最小値を計算する．"
   ]
  },
  {
   "attachments": {},
   "cell_type": "markdown",
   "metadata": {},
   "source": [
    "### 平方分割によるRMQのクエリ"
   ]
  },
  {
   "attachments": {},
   "cell_type": "markdown",
   "metadata": {},
   "source": [
    "- 区間に完全に含まれるバケットについては，そのバケットの最小値\n",
    "- 自身のバケットが区間に含まれない要素については，個々の最小値\n",
    "\n",
    "これらの最小値が区間の最小値となる．\n",
    "\n",
    "|----<======|==========|==========|==>--------|\n",
    "        3         2         1      0\n",
    "     i                               j\n",
    "|-----------|----------|----------|-----------|\n",
    "\n",
    "\n",
    "    1 5 8 10 11 12 18 340\n",
    "\n",
    "```python\n",
    "a = [1, 2, 4, 5, 7, 8]\n",
    "lo = 0, hi = 5\n",
    "\n",
    "while lo - hi:  # metaにぶたん\n",
    "    mid = (lo + hi) // 2\n",
    "    x = a[mid]\n",
    "```\n"
   ]
  },
  {
   "attachments": {},
   "cell_type": "markdown",
   "metadata": {},
   "source": [
    "### 平方分割によるRMQの値の更新"
   ]
  },
  {
   "attachments": {},
   "cell_type": "markdown",
   "metadata": {},
   "source": [
    "バケットの要素をチェックする必要がある？？\n",
    "\n",
    "6, 100, 101, 102 -> 6\n",
    "6を2000に変える時．"
   ]
  },
  {
   "attachments": {},
   "cell_type": "markdown",
   "metadata": {},
   "source": [
    "### 平方分割によるRMQの計算量"
   ]
  },
  {
   "attachments": {},
   "cell_type": "markdown",
   "metadata": {},
   "source": [
    "### 平方分割を用いる問題"
   ]
  },
  {
   "attachments": {},
   "cell_type": "markdown",
   "metadata": {},
   "source": [
    "- 区間に存在する$x$以下の数の個数を効率的に数えたい -> 区間の大きさを$j-i$，$x$以下の個数を$y$とすると，$j-i-y=k$となる$x$を二分探索すればよい\n",
    "  - 区間に完全に含まれるバケットについては，(さらに)二分探索によって個数を計算する（各区間は事前にソートされている）\n",
    "  - 自身のバケットが区間に完全に含まれない要素については，個々を調べる\n",
    "\n",
    "  この計算量は，各バケットの大きさ（要素数） $b=\\sqrt{n}$ 程度とすると，$O(\\frac{n}{b}\\log{b}+b)=O(\\sqrt{n}\\log{n})$となる．(バケット数×各バケットに対する計算量+1×個々の要素数)\n",
    "\n",
    "  - バケットに対する操作が，個々の要素に対する操作よりも重いので，もう少しバケットを大きくする（バケット個数を小さくする）方が効率的となる\n",
    "\n",
    "  $b=\\sqrt{n\\log{n}}$ 程度とすると，$O(\\frac{n}{b}\\log{b}+b)=O(\\sqrt{n\\log{n}})$\n",
    "\n",
    "- 探索する$x$の値は数列に含まれる値であるため，探索は$O(\\log{n})$で行える．よって1クエリに対する計算量は$O(\\log{n}\\times\\sqrt{n\\log{n}})=O(\\sqrt{n}\\log^{\\frac{3}{2}}n)$\n",
    "\n",
    "- 前処理を含めると，全体としての計算量は$O(n\\log{n}+m\\sqrt{n}\\log^{\\frac{3}{2}}n)$"
   ]
  },
  {
   "cell_type": "code",
   "execution_count": 8,
   "metadata": {},
   "outputs": [
    {
     "data": {
      "text/plain": [
       "Ellipsis"
      ]
     },
     "execution_count": 8,
     "metadata": {},
     "output_type": "execute_result"
    }
   ],
   "source": [
    "# K-th Number\n",
    "\n",
    "N: int; M: int\n",
    "A: list[int]\n",
    "I: list[int]; J: list[int]; K: list[int]\n",
    "\n",
    "B: int = 1000\n",
    "\n",
    "..."
   ]
  },
  {
   "attachments": {},
   "cell_type": "markdown",
   "metadata": {},
   "source": [
    "各ノードに**列**を持たせるセグメント木による解法も存在する．\n",
    "\n",
    "- 構築においては，マージソートの過程がそのまま木となる\n",
    "- ある区間の$x$以下の数の個数を求めるには\n",
    "  - 与えられた区間とそのノードの区間が全く交差していなければ0個\n",
    "  - 与えられた区間が完全にそのノードの区間を含むようなノードであれば，素のノードの持つ列で二分探索を行う\n",
    "  - そうでなければ，2つの子ノードについて再帰的に計算する\n",
    "\n",
    "全体としての計算量は$O(n\\log{n}+m\\log^{3}{n})$となる"
   ]
  },
  {
   "cell_type": "code",
   "execution_count": 9,
   "metadata": {},
   "outputs": [
    {
     "data": {
      "text/plain": [
       "Ellipsis"
      ]
     },
     "execution_count": 9,
     "metadata": {},
     "output_type": "execute_result"
    }
   ],
   "source": [
    "# K-th Number (Segment Tree)\n",
    "\n",
    "..."
   ]
  }
 ],
 "metadata": {
  "kernelspec": {
   "display_name": "Python 3",
   "language": "python",
   "name": "python3"
  },
  "language_info": {
   "codemirror_mode": {
    "name": "ipython",
    "version": 3
   },
   "file_extension": ".py",
   "mimetype": "text/x-python",
   "name": "python",
   "nbconvert_exporter": "python",
   "pygments_lexer": "ipython3",
   "version": "3.10.8 (tags/v3.10.8:aaaf517, Oct 11 2022, 16:50:30) [MSC v.1933 64 bit (AMD64)]"
  },
  "orig_nbformat": 4,
  "vscode": {
   "interpreter": {
    "hash": "120702f7e6053f051863eda686c41cf05b980199455e680d50b566abedd1c5d9"
   }
  }
 },
 "nbformat": 4,
 "nbformat_minor": 2
}
