{
 "cells": [
  {
   "attachments": {},
   "cell_type": "markdown",
   "metadata": {},
   "source": [
    "# 2-3 値を覚えて再利用 \"動的計画法\""
   ]
  },
  {
   "cell_type": "code",
   "execution_count": 1,
   "metadata": {},
   "outputs": [
    {
     "ename": "ModuleNotFoundError",
     "evalue": "No module named 'pandas'",
     "output_type": "error",
     "traceback": [
      "\u001b[0;31m---------------------------------------------------------------------------\u001b[0m",
      "\u001b[0;31mModuleNotFoundError\u001b[0m                       Traceback (most recent call last)",
      "Cell \u001b[0;32mIn[1], line 5\u001b[0m\n\u001b[1;32m      2\u001b[0m \u001b[39mimport\u001b[39;00m \u001b[39mipywidgets\u001b[39;00m\n\u001b[1;32m      3\u001b[0m \u001b[39mimport\u001b[39;00m \u001b[39mcopy\u001b[39;00m\n\u001b[0;32m----> 5\u001b[0m \u001b[39mimport\u001b[39;00m \u001b[39mpandas\u001b[39;00m \u001b[39mas\u001b[39;00m \u001b[39mpd\u001b[39;00m\n",
      "\u001b[0;31mModuleNotFoundError\u001b[0m: No module named 'pandas'"
     ]
    }
   ],
   "source": [
    "import IPython.display\n",
    "import ipywidgets\n",
    "import copy\n",
    "\n",
    "import pandas as pd"
   ]
  },
  {
   "attachments": {},
   "cell_type": "markdown",
   "metadata": {},
   "source": [
    "## 探索のメモ化と動的計画法"
   ]
  },
  {
   "cell_type": "code",
   "execution_count": 2,
   "metadata": {},
   "outputs": [],
   "source": [
    "# 01ナップサック問題 (ナイーブ解)\n",
    "n: int = 4\n",
    "w: list[int] = [2, 1, 3, 2]; v: list[int] = [3, 2, 4, 2]\n",
    "W: int = 5\n",
    "\n",
    "def rec(i, j) -> int:\n",
    "    '''\n",
    "    iは選択済みの商品番号，jはナップサックの残用量\n",
    "    '''\n",
    "    if i == n:\n",
    "        return 0\n",
    "    return max(\n",
    "        (v[i] + rec(i + 1, j - w[i])) * (j >= w[i]),\n",
    "        rec(i + 1, j)\n",
    "    )\n",
    "\n",
    "def solve() -> None:\n",
    "    print(rec(0, W))"
   ]
  },
  {
   "attachments": {},
   "cell_type": "markdown",
   "metadata": {},
   "source": [
    "### ナイーブ解の計算量\n",
    "探索の深さは最大$n$，各深さにおいて2回分岐するため，計算量は$O(2^{N})$\n",
    "\n",
    "$$\n",
    "\\sum_{i=0}^{n}2^{i}=\\frac{2(1-2^{n})}{1-2}=2(2^{n}-1)=O(2^n)\n",
    "$$"
   ]
  },
  {
   "attachments": {},
   "cell_type": "markdown",
   "metadata": {},
   "source": [
    "### ナイーブ解の改善\n",
    "`rec(i, j)`の呼び出しにおける`(i, j)`の組み合わせは高々$nW$通り．  \n",
    "呼び出し結果を保存しておくことで計算量を改善できる．"
   ]
  },
  {
   "cell_type": "code",
   "execution_count": 3,
   "metadata": {},
   "outputs": [],
   "source": [
    "## 01ナップサック問題 (メモ化)\n",
    "\n",
    "import functools\n",
    "\n",
    "@functools.lru_cache\n",
    "def rec(i: int, j: int) -> int:\n",
    "    if i == n:\n",
    "        return 0\n",
    "    return max(\n",
    "        v[i] + rec(i + 1, j - w[i]) * (j >= w[i]),\n",
    "        rec(i + 1, j)\n",
    "    )\n",
    "\n",
    "def solve() -> None:\n",
    "    print(rec(0, W))"
   ]
  },
  {
   "cell_type": "code",
   "execution_count": 4,
   "metadata": {},
   "outputs": [],
   "source": [
    "## 01ナップサック問題 (メモ化ー自力で実装)\n",
    "\n",
    "dp: list[list[int]]\n",
    "\n",
    "def rec(i: int, j: int) -> int:\n",
    "    if not dp[i][j] is None:\n",
    "        return dp[i][j]\n",
    "    if i == n:\n",
    "        return 0\n",
    "    dp[i][j] = max(\n",
    "        (v[i] + rec(i + 1, j - w[i])) * (j >= w[i]), rec(i + 1, j)\n",
    "    )\n",
    "    return dp[i][j]\n",
    "\n",
    "def solve() -> None:\n",
    "    print(rec(0, W))"
   ]
  },
  {
   "attachments": {},
   "cell_type": "markdown",
   "metadata": {},
   "source": [
    "### メモ化後の計算量"
   ]
  },
  {
   "attachments": {},
   "cell_type": "markdown",
   "metadata": {},
   "source": [
    "引数の組み合わせは高々$nW$通りであり，関数内でも2回の再帰呼び出しが行われるのみであるから，計算量は$O(nW)$．"
   ]
  },
  {
   "attachments": {},
   "cell_type": "markdown",
   "metadata": {},
   "source": [
    "### そしてDPへ\n",
    "`dp[i][j]`は関数`rec(i, j)`の定義より，`i`番目の品物以降の品物から重さの総和が`j`以下となるように選んだときの価値の総和となっている．  \n",
    "その値は次の通り，\n",
    "$$\n",
    "\\begin{aligned}\n",
    "    dp[n][j] &= 0\\\\\n",
    "    dp[i][j] &= \\begin{cases}\n",
    "                dp[i + 1][j] & (j < w[i])\\\\\n",
    "                \\max(dp[i+1][j], dp[i+1][j-w[i]]+v[i]) & (それ以外)\n",
    "            \\end{cases}\n",
    "\\end{aligned}\n",
    "$$\n",
    "\n",
    "この計算式を用いることで，単純な2重ループで問題を解く事が出来る．"
   ]
  },
  {
   "cell_type": "code",
   "execution_count": 5,
   "metadata": {},
   "outputs": [
    {
     "data": {
      "application/vnd.jupyter.widget-view+json": {
       "model_id": "032820707f1d4111a4e1b2184f880f1f",
       "version_major": 2,
       "version_minor": 0
      },
      "text/plain": [
       "interactive(children=(IntSlider(value=0, description='flame', max=24), Output()), _dom_classes=('widget-intera…"
      ]
     },
     "metadata": {},
     "output_type": "display_data"
    }
   ],
   "source": [
    "# 01ナップサック問題（DP・逆方向）\n",
    "\n",
    "dp: list[list[int]] = [[float('-inf') for _ in range(W + 1)] for _ in range(n + 1)]\n",
    "for j in range(W + 1):\n",
    "    dp[n][j] = 0\n",
    "\n",
    "film = [copy.deepcopy(dp)]\n",
    "for i in range(n)[::-1]:\n",
    "    for j in range(W + 1):\n",
    "        if j < w[i]:\n",
    "            dp[i][j] = dp[i + 1][j]\n",
    "        else:\n",
    "            dp[i][j] = max(\n",
    "                dp[i + 1][j], dp[i + 1][j - w[i]] + v[i]\n",
    "            )\n",
    "        film.append(copy.deepcopy(dp))\n",
    "\n",
    "@ipywidgets.interact(flame=ipywidgets.IntSlider(min=0, max=len(film) - 1))\n",
    "def show_table_transition(flame: int):\n",
    "    table = pd.DataFrame(film[flame])\n",
    "    with pd.option_context('display.float_format', '{:.0g}'.format):\n",
    "        display(table)"
   ]
  },
  {
   "attachments": {},
   "cell_type": "markdown",
   "metadata": {},
   "source": [
    "漸化式は次のように定める事も出来る．\n",
    "$$\n",
    "\\begin{aligned}\n",
    "    dp[0][j] &= 0\\\\\n",
    "    dp[i+1][j] &= \\begin{cases}\n",
    "                dp[i][j] & (j < w[i])\\\\\n",
    "                \\max(dp[i][j], dp[i][j-w[i]]+v[i]) & (それ以外)\n",
    "            \\end{cases}\n",
    "\\end{aligned}\n",
    "$$"
   ]
  },
  {
   "cell_type": "code",
   "execution_count": 6,
   "metadata": {},
   "outputs": [
    {
     "data": {
      "application/vnd.jupyter.widget-view+json": {
       "model_id": "f32999c805ab44b6892729edda178aea",
       "version_major": 2,
       "version_minor": 0
      },
      "text/plain": [
       "interactive(children=(IntSlider(value=0, description='flame', max=24), Output()), _dom_classes=('widget-intera…"
      ]
     },
     "metadata": {},
     "output_type": "display_data"
    }
   ],
   "source": [
    "## 01ナップサック問題（DP・順方向）\n",
    "\n",
    "dp: list[list[int]] = [[float('-inf') for _ in range(W + 1)] for _ in range(n + 1)]\n",
    "for j in range(W + 1):\n",
    "    dp[0][j] = 0\n",
    "\n",
    "film = [copy.deepcopy(dp)]\n",
    "for i in range(n):\n",
    "    for j in range(W + 1):\n",
    "        if j < w[i]:\n",
    "            dp[i + 1][j] = dp[i][j]\n",
    "        else:\n",
    "            dp[i + 1][j] = max(\n",
    "                dp[i][j], dp[i][j - w[i]] + v[i]\n",
    "            )\n",
    "        film.append(copy.deepcopy(dp))\n",
    "\n",
    "@ipywidgets.interact(flame=ipywidgets.IntSlider(min=0, max=len(film) - 1))\n",
    "def show_table_transition(flame: int):\n",
    "    table = pd.DataFrame(film[flame]).replace(float('-inf'), '-')\n",
    "    with pd.option_context('display.float_format', '{:.0g}'.format):\n",
    "        display(table)"
   ]
  },
  {
   "attachments": {},
   "cell_type": "markdown",
   "metadata": {},
   "source": [
    "## 実際のDPはどう考えるのか"
   ]
  },
  {
   "attachments": {},
   "cell_type": "markdown",
   "metadata": {},
   "source": [
    "1. DPテーブルの定義\n",
    "2. 遷移式\n",
    "3. 埋める方向"
   ]
  },
  {
   "attachments": {},
   "cell_type": "markdown",
   "metadata": {},
   "source": [
    "### 最長共通部分列問題(LCS)"
   ]
  },
  {
   "attachments": {},
   "cell_type": "markdown",
   "metadata": {},
   "source": [
    "$$\n",
    "\\begin{aligned}\n",
    "    dp[i][j] &:= s_1...s_iとt_1...t_jに対するLCSの長さ \\\\\n",
    "    dp[0][0] &= 0\\\\\n",
    "    dp[i+1][j+1] &= \\begin{cases}\n",
    "                \\max(dp[i][j]+1, dp[i][j+1], dp[i+1][j]) & (S_{i+1}=t_{j+1}) \\\\\n",
    "                \\max(dp[i][j+1], dp[i+1][j]) & (それ以外)\n",
    "            \\end{cases}\n",
    "\\end{aligned}\n",
    "$$"
   ]
  },
  {
   "attachments": {},
   "cell_type": "markdown",
   "metadata": {},
   "source": [
    "**ポイント**\n",
    "- 遷移における矢印の意味は**文字を足す**ではなく，**文字を消す**操作に対応．\n",
    "\n",
    "文字列の入ったスタックから，任意の順番で文字を取り出していく操作だと見なすと分かりやすい．  \n",
    "![LCS1](assets/lcs1.png)  \n",
    "どちらか一方のスタックから要素を取り出す操作では文字のマッチは考えない．これはDPテーブルでの右方向または下方向への遷移に対応する．  \n",
    "![LCS2](assets/lcs2.png)  \n",
    "両方の要素を同時に取り出すときに，そのタイミングで文字をマッチさせる（LCSを構成する要素）と考える．これはDPテーブルでの右下方向への遷移に対応する．\n",
    "\n",
    "【出典】[まくろぐ / 文字列の類似度を計算する（LCS: 最長共通部分列）](https://maku.blog/p/a3jyhwd/)"
   ]
  },
  {
   "cell_type": "code",
   "execution_count": 7,
   "metadata": {},
   "outputs": [
    {
     "data": {
      "application/vnd.jupyter.widget-view+json": {
       "model_id": "12235c69471146c29e4487490ce5f414",
       "version_major": 2,
       "version_minor": 0
      },
      "text/plain": [
       "interactive(children=(IntSlider(value=0, description='flame', max=16), Output()), _dom_classes=('widget-intera…"
      ]
     },
     "metadata": {},
     "output_type": "display_data"
    }
   ],
   "source": [
    "# 最長共通部分問題\n",
    "\n",
    "n: int = 4; m: int = 4\n",
    "s: str = 'abcd'; t: str = 'becd'\n",
    "\n",
    "dp: list[list[int]] = [[0 for _ in range(m + 1)] for _ in range(n + 1)]\n",
    "# dp[i][j] := s[:i], t[:j] でのLCSの長さ\n",
    "\n",
    "film = [copy.deepcopy(dp)]\n",
    "for i in range(n):\n",
    "    for j in range(m):\n",
    "        dp[i + 1][j + 1] = max(\n",
    "            dp[i + 1][j],\n",
    "            dp[i][j + 1],\n",
    "            dp[i][j] + (s[i] == t[j])\n",
    "        )\n",
    "        film.append(copy.deepcopy(dp))\n",
    "\n",
    "@ipywidgets.interact(flame=ipywidgets.IntSlider(min=0, max=len(film) - 1))\n",
    "def show_table_transition(flame: int):\n",
    "    table = pd.DataFrame(film[flame],\n",
    "                         columns=list(enumerate(' ' + s)),\n",
    "                         index=list(enumerate(' ' + t)))\n",
    "    with pd.option_context('display.float_format', '{:.0g}'.format):\n",
    "        display(table)"
   ]
  },
  {
   "attachments": {},
   "cell_type": "markdown",
   "metadata": {},
   "source": [
    "## 漸化式を工夫する"
   ]
  },
  {
   "attachments": {},
   "cell_type": "markdown",
   "metadata": {},
   "source": [
    "### 個数制限なしナップサック問題"
   ]
  },
  {
   "attachments": {},
   "cell_type": "markdown",
   "metadata": {},
   "source": [
    "$$\n",
    "\\begin{aligned}\n",
    "    dp[i][j] &:= i番目までの品物から，重さの総和がj以下になるように選んだときの価値の総和の最大値 \\\\\n",
    "    dp[0][j] &= 0\\\\\n",
    "    dp[i+1][j+1] &= \\max ({dp[i][j-k\\times w[i]]+k\\times v[i] | 0\\leqq k})\n",
    "\\end{aligned}\n",
    "$$"
   ]
  },
  {
   "cell_type": "code",
   "execution_count": 8,
   "metadata": {},
   "outputs": [
    {
     "data": {
      "application/vnd.jupyter.widget-view+json": {
       "model_id": "b48a6b896ddb4a82952b1419b2f22ea3",
       "version_major": 2,
       "version_minor": 0
      },
      "text/plain": [
       "interactive(children=(IntSlider(value=0, description='flame', max=47), Output()), _dom_classes=('widget-intera…"
      ]
     },
     "metadata": {},
     "output_type": "display_data"
    }
   ],
   "source": [
    "# 個数制限なしナップサック問題 (ナイーブ解)\n",
    "n: int = 3\n",
    "w: list[int] = [3, 4, 2]; v: list[int] = [4, 5, 3]\n",
    "W: int = 7\n",
    "\n",
    "dp: list[list[int]] = [[0 for _ in range(W + 1)] for _ in range(n + 1)]\n",
    "\n",
    "film = [(copy.deepcopy(dp), (0, 0, 0))]\n",
    "for i in range(n):\n",
    "    for j in range(W + 1):\n",
    "        for k in range(j // w[i] + 1):\n",
    "            dp[i + 1][j] = max(\n",
    "                dp[i + 1][j],\n",
    "                dp[i][j - k * w[i]] + k * v[i]\n",
    "            )\n",
    "            film.append((copy.deepcopy(dp), (i, j, k)))\n",
    "\n",
    "@ipywidgets.interact(flame=ipywidgets.IntSlider(min=0, max=len(film) - 1))\n",
    "def show_table_transition(flame: int):\n",
    "    dp, (i, j, k) = film[flame]\n",
    "    table = pd.DataFrame(dp)\n",
    "    with pd.option_context('display.float_format', '{:.0g}'.format):\n",
    "        display(table.style.set_properties(subset=pd.IndexSlice[i + 1, j], **{\"background-color\": \"#FF7000\"})\\\n",
    "                           .set_properties(subset=pd.IndexSlice[i, j - k * w[i]], **{\"background-color\": \"#FFBF00\"}))\n",
    "        print(f'価値{v[i]}，重さ{w[i]}の品物を{k}個取る')"
   ]
  },
  {
   "attachments": {},
   "cell_type": "markdown",
   "metadata": {},
   "source": [
    "### ナイーブ解の計算量改善\n",
    "\n",
    "$dp[i+1][j]$の計算において，$k(\\geqq1)$個選ぶ場合は$dp[i+1][j-w[i]]$の計算において$k-1$個選んだ場合と同様であるため，$dp[i+1][j]$の遷移式における$k\\geqq1$の部分の計算は既に$dp[i+1][j-w[i]]$の計算時に行っている．\n",
    "\n",
    "つまり，次のような式変形が可能\n",
    "\n"
   ]
  },
  {
   "cell_type": "code",
   "execution_count": 9,
   "metadata": {},
   "outputs": [
    {
     "data": {
      "application/vnd.jupyter.widget-view+json": {
       "model_id": "2d8dc664ea2745e4b698c27d856b16c8",
       "version_major": 2,
       "version_minor": 0
      },
      "text/plain": [
       "interactive(children=(IntSlider(value=0, description='flame', max=24), Output()), _dom_classes=('widget-intera…"
      ]
     },
     "metadata": {},
     "output_type": "display_data"
    }
   ],
   "source": [
    "# 個数制限なしナップサック問題 (計算量改善)\n",
    "n: int = 3\n",
    "w: list[int] = [3, 4, 2]; v: list[int] = [4, 5, 3]\n",
    "W: int = 7\n",
    "\n",
    "dp: list[list[int]] = [[0 for _ in range(W + 1)] for _ in range(n + 1)]\n",
    "\n",
    "film = [(copy.deepcopy(dp), (0, 0, 0))]\n",
    "for i in range(n):\n",
    "    for j in range(W + 1):\n",
    "        dp[i + 1][j] = max(\n",
    "            dp[i][j],\n",
    "            dp[i + 1][j - w[i]] + v[i] * (j - w[i] >= 0)\n",
    "        )\n",
    "        film.append((copy.deepcopy(dp), (i, j, k)))\n",
    "\n",
    "@ipywidgets.interact(flame=ipywidgets.IntSlider(min=0, max=len(film) - 1))\n",
    "def show_table_transition(flame: int) -> None:\n",
    "    dp, (i, j, k) = film[flame]\n",
    "    table = pd.DataFrame(dp)\n",
    "    with pd.option_context('display.float_format', '{:.0g}'.format):\n",
    "        table = table.style.set_properties(subset=pd.IndexSlice[i + 1, j], **{\"background-color\": \"#FF7000\"})\\\n",
    "                           .set_properties(subset=pd.IndexSlice[i, j], **{\"background-color\": \"#FFBF00\"})\n",
    "        if j - w[i] >= 0:\n",
    "            table = table.set_properties(subset=pd.IndexSlice[i + 1, j - w[i]], **{\"background-color\": \"#FFBF00\"})\n",
    "        display(table)\n",
    "        if j - w[i] >= 0:\n",
    "            print(f'{v[i]:+}')"
   ]
  },
  {
   "attachments": {},
   "cell_type": "markdown",
   "metadata": {},
   "source": [
    "### 配列の再利用"
   ]
  },
  {
   "attachments": {},
   "cell_type": "markdown",
   "metadata": {},
   "source": [
    "..."
   ]
  },
  {
   "attachments": {},
   "cell_type": "markdown",
   "metadata": {},
   "source": [
    "### 01ナップサック問題その2"
   ]
  },
  {
   "attachments": {},
   "cell_type": "markdown",
   "metadata": {},
   "source": [
    "価値の総和を最大化すること <=> 重さの総和を最小化すること\n",
    "$$\n",
    "\\begin{aligned}\n",
    "    dp[i][j] &:= i番目までの品物から，価値の総和がjとなるように選んだときの重さの総和の最小値 \\\\\n",
    "    dp[0][j] &= \\infty (j > 0)\\\\\n",
    "    dp[0][0] &= 0 \\\\\n",
    "dp[i+1][j+1] &= \\min(dp[i][j], dp[i-v[i]]+w[i]) \\\\\n",
    "\\end{aligned}\n",
    "$$"
   ]
  },
  {
   "cell_type": "code",
   "execution_count": 10,
   "metadata": {},
   "outputs": [],
   "source": [
    "# コードは省略"
   ]
  },
  {
   "attachments": {},
   "cell_type": "markdown",
   "metadata": {},
   "source": [
    "### 個数制限付き部分和問題"
   ]
  },
  {
   "attachments": {},
   "cell_type": "markdown",
   "metadata": {},
   "source": [
    "$$\n",
    "\\begin{aligned}\n",
    "    dp[i][j] &:= i番目まででjが作れるか \\\\\n",
    "    dp[i][j] &= any(\\{dp[i][j-k\\times a_{i}] | 0\\le k\\le m_{i}かつk\\times a_{i}\\le j\\})\n",
    "\\end{aligned}\n",
    "$$\n",
    "\n",
    "計算時間は$O(K\\sum_{i}m_{i})$"
   ]
  },
  {
   "cell_type": "code",
   "execution_count": 10,
   "metadata": {},
   "outputs": [
    {
     "data": {
      "application/vnd.jupyter.widget-view+json": {
       "model_id": "5d5c860fa85740369be50a498dd3e905",
       "version_major": 2,
       "version_minor": 0
      },
      "text/plain": [
       "interactive(children=(IntSlider(value=0, description='flame', max=123), Output()), _dom_classes=('widget-inter…"
      ]
     },
     "metadata": {},
     "output_type": "display_data"
    }
   ],
   "source": [
    "# 個数制限付き部分和問題（ナイーブ解）\n",
    "\n",
    "n: int = 3\n",
    "K: int = 17\n",
    "a: list[int] = [3, 5, 8]\n",
    "m: list[int] = [3, 2, 2]\n",
    "\n",
    "dp: list[list[int]] = [[False for _ in range(K + 1)] for _ in range(n + 1)]\n",
    "dp[0][0] = True\n",
    "\n",
    "film = [(copy.deepcopy(dp), (0, 0, 0))]\n",
    "for i in range(n):\n",
    "    for j in range(K + 1):\n",
    "        for k in range(K + 1):\n",
    "            if not (0 <= k <= m[i] and k * a[i] <= j):\n",
    "                break\n",
    "            dp[i + 1][j] |= dp[i][j - k * a[i]]\n",
    "            film.append((copy.deepcopy(dp), (i, j, k)))\n",
    "\n",
    "@ipywidgets.interact(flame=ipywidgets.IntSlider(min=0, max=len(film) - 1))\n",
    "def show_table_transition(flame: int) -> None:\n",
    "    dp, (i, j, k) = film[flame]\n",
    "    table = pd.DataFrame(dp)\n",
    "    with pd.option_context('display.float_format', '{:.0g}'.format):\n",
    "        table = table.style.set_properties(subset=pd.IndexSlice[i + 1, j], **{\"background-color\": \"#FF7000\"})\\\n",
    "                           .set_properties(subset=pd.IndexSlice[i, j - k * a[i]], **{\"background-color\": \"#FFBF00\"})\n",
    "        display(table)"
   ]
  },
  {
   "attachments": {},
   "cell_type": "markdown",
   "metadata": {},
   "source": [
    "### 計算量の改善"
   ]
  },
  {
   "attachments": {},
   "cell_type": "markdown",
   "metadata": {},
   "source": [
    "- dpテーブルにもっと情報を与えたい\n",
    "  - 作れる場合にどれだけ$a_{i}$が余っているかを持たせる\n",
    "\n",
    "$$\n",
    "\\begin{aligned}\n",
    "    dp[i][j] &:= i番目まででjを作る際に余る最大のi番目の個数（作れない場合は-1）\\\\\n",
    "    dp[i+1][j] &= \\begin{cases}\n",
    "                      m_{i} (dp[i][j] \\ge 0)\\\\\n",
    "                      -1 (j<a_{i}またはdp[i+1][j-a_{i}]\\leqq 0)\\\\\n",
    "                      dp[i+1][j-a_{i}]-1 (それ以外)\\\\\n",
    "                  \\end{cases}\n",
    "\\end{aligned}\n",
    "$$"
   ]
  },
  {
   "cell_type": "code",
   "execution_count": 11,
   "metadata": {},
   "outputs": [
    {
     "data": {
      "application/vnd.jupyter.widget-view+json": {
       "model_id": "80a07c34b41341208aa61cf4e583a3b4",
       "version_major": 2,
       "version_minor": 0
      },
      "text/plain": [
       "interactive(children=(IntSlider(value=0, description='flame', max=54), Output()), _dom_classes=('widget-intera…"
      ]
     },
     "metadata": {},
     "output_type": "display_data"
    }
   ],
   "source": [
    "# 個数制限付き部分和問題\n",
    "\n",
    "n: int = 3\n",
    "K: int = 17\n",
    "a: list[int] = [3, 5, 8]\n",
    "m: list[int] = [3, 2, 2]\n",
    "\n",
    "dp: list[list[int]] = [[-1 for _ in range(K + 1)] for _ in range(n + 1)]\n",
    "dp[0][0] = 0\n",
    "\n",
    "film = [(copy.deepcopy(dp), (0, 0, 0))]\n",
    "for i in range(n):\n",
    "    for j in range(K + 1):\n",
    "        if dp[i][j] >= 0:\n",
    "            dp[i + 1][j] = m[i]\n",
    "        elif j < a[i] or dp[i + 1][j - a[i]] <= 0:\n",
    "            dp[i + 1][j] = -1\n",
    "        else:\n",
    "            dp[i + 1][j] = dp[i + 1][j - a[i]] - 1\n",
    "\n",
    "        film.append((copy.deepcopy(dp), (i, j, k)))\n",
    "\n",
    "@ipywidgets.interact(flame=ipywidgets.IntSlider(min=0, max=len(film) - 1))\n",
    "def show_table_transition(flame: int) -> None:\n",
    "    dp, (i, j, k) = film[flame]\n",
    "    table = pd.DataFrame(dp)\n",
    "    with pd.option_context('display.float_format', '{:.0g}'.format):\n",
    "        table = table.style.set_properties(subset=pd.IndexSlice[i + 1, j], **{\"background-color\": \"#FF7000\"})\n",
    "        if dp[i][j] >= 0:\n",
    "            table.set_properties(subset=pd.IndexSlice[i, j], **{\"background-color\": \"#FFBF00\"})\n",
    "        if not (j < a[i] or dp[i + 1][j - a[i]] <= 0):\n",
    "            table.set_properties(subset=pd.IndexSlice[i + 1, j - a[i]], **{\"background-color\": \"#FFBF00\"})\n",
    "        display(table)"
   ]
  },
  {
   "attachments": {},
   "cell_type": "markdown",
   "metadata": {},
   "source": [
    "### 最長部分増加列問題"
   ]
  },
  {
   "attachments": {},
   "cell_type": "markdown",
   "metadata": {},
   "source": [
    "$$\n",
    "\\begin{aligned}\n",
    "    dp[i] &:= 最後がa_{i}であるような最長の増加部分列の長さ\\\\\n",
    "    dp[i] &= \\max\\{1, dp[j]+1|j<iかつa_{j}<a_{i}\\}\\\\\n",
    "\\end{aligned}\n",
    "$$"
   ]
  },
  {
   "cell_type": "code",
   "execution_count": 12,
   "metadata": {},
   "outputs": [
    {
     "data": {
      "application/vnd.jupyter.widget-view+json": {
       "model_id": "140d84718fc64802b7914f5e1a2368b0",
       "version_major": 2,
       "version_minor": 0
      },
      "text/plain": [
       "interactive(children=(IntSlider(value=0, description='flame', max=10), Output()), _dom_classes=('widget-intera…"
      ]
     },
     "metadata": {},
     "output_type": "display_data"
    }
   ],
   "source": [
    "# 最長部分増加列問題\n",
    "n: int = 5\n",
    "a: list[int] = [4, 2, 3, 1, 5]\n",
    "\n",
    "dp: list[int] = [0] * n\n",
    "\n",
    "film = [(copy.deepcopy(dp), (0, 0))]\n",
    "for i in range(n):\n",
    "    dp[i] = 1\n",
    "    for j in range(i):\n",
    "        if a[j] < a[i]:\n",
    "            dp[i] = max(dp[i], dp[j] + 1)\n",
    "        film.append((copy.deepcopy(dp), (i, j)))\n",
    "\n",
    "@ipywidgets.interact(flame=ipywidgets.IntSlider(min=0, max=len(film) - 1))\n",
    "def show_table_transition(flame: int) -> None:\n",
    "    dp, (i, j) = film[flame]\n",
    "    table = pd.DataFrame([dp])\n",
    "    with pd.option_context('display.float_format', '{:.0g}'.format):\n",
    "        table = table.style.set_properties(subset=pd.IndexSlice[0, i], **{\"background-color\": \"#FF7000\"})\\\n",
    "                           .set_properties(subset=pd.IndexSlice[0, j], **{\"background-color\": \"#FFBF00\"})\n",
    "        display(table)"
   ]
  },
  {
   "attachments": {},
   "cell_type": "markdown",
   "metadata": {},
   "source": [
    "## 計算問題に対するDP"
   ]
  },
  {
   "attachments": {},
   "cell_type": "markdown",
   "metadata": {},
   "source": [
    "### 分割数"
   ]
  },
  {
   "attachments": {},
   "cell_type": "markdown",
   "metadata": {},
   "source": [
    "$$\n",
    "\\begin{aligned}\n",
    "    dp[i][j] &:= jのi分割の総数 \\\\\n",
    "    dp[i][0] &= 0 \\\\\n",
    "    dp[0][0] &= 1 \\\\\n",
    "    dp[i][j] &= dp[i-1][j]+dp[i][j-i]\n",
    "\\end{aligned}\n",
    "$$\n",
    "\n",
    "$dp[i][j]$を整数$j$を$i$個以下に分割するパターン数とすると，$dp[i][j]$は，\n",
    "- $j$を$i-1$個**以下**に分割するパターン\n",
    "- $j$を$i$個に分割するパターン\n",
    "\n",
    "に分類することができる．\n",
    "\n",
    "前者については，$dp[i-1][j]$そのものである．  \n",
    "後者については，まず$i$個の箱に1つずつ割り当てておいて，残った$j-i$個を$i$個以下に分割するパターンを考えればよいので$dp[i][j-i]$と表現できる．\n",
    "\n",
    "以上より，$dp[i][j] = dp[i-1][j] + dp[i][j-i]$"
   ]
  },
  {
   "cell_type": "code",
   "execution_count": 14,
   "metadata": {},
   "outputs": [
    {
     "data": {
      "text/plain": [
       "23"
      ]
     },
     "execution_count": 14,
     "metadata": {},
     "output_type": "execute_result"
    }
   ],
   "source": [
    "# 分割数\n",
    "import functools\n",
    "\n",
    "MOD: int = 998244353\n",
    "\n",
    "@functools.cache\n",
    "def dp(i, j):\n",
    "    '''\n",
    "    dp[i][j] := 整数jをi個以下に分割する場合の数\n",
    "    '''\n",
    "    if i == 0:\n",
    "        return j == 0\n",
    "    if j - i >= 0:\n",
    "        return dp(i - 1, j) + dp(i, j - i) % MOD\n",
    "    else:\n",
    "        return dp(i - 1, j)\n",
    "\n",
    "dp(4, 10)"
   ]
  },
  {
   "attachments": {},
   "cell_type": "markdown",
   "metadata": {},
   "source": [
    "### 重複組み合わせ"
   ]
  },
  {
   "attachments": {},
   "cell_type": "markdown",
   "metadata": {},
   "source": [
    "$$\n",
    "\\begin{aligned}\n",
    "    dp[i][j] &:= i番目までの品物からj個選ぶ組み合わせの総数 \\\\\n",
    "    dp[i][0] &= 0 \\\\\n",
    "    dp[i+1][j] &= \\sum_{k=0}^{\\min(j,a[i])}dp[i][j-k] \\\\\n",
    "\n",
    "\\end{aligned}\n",
    "$$"
   ]
  },
  {
   "cell_type": "code",
   "execution_count": 18,
   "metadata": {},
   "outputs": [
    {
     "data": {
      "application/vnd.jupyter.widget-view+json": {
       "model_id": "42686580d2434ab99aaaddc8f1fd3eab",
       "version_major": 2,
       "version_minor": 0
      },
      "text/plain": [
       "interactive(children=(IntSlider(value=0, description='flame', max=26), Output()), _dom_classes=('widget-intera…"
      ]
     },
     "metadata": {},
     "output_type": "display_data"
    }
   ],
   "source": [
    "# 重複組み合わせ（ナイーブ解）\n",
    "n: int = 3\n",
    "m: int = 3\n",
    "a: list[int] = [1, 2, 3]\n",
    "\n",
    "dp = [[0 for _ in range(m + 1)] for _ in range(n + 1)]\n",
    "dp[0][0] = 1\n",
    "\n",
    "film = [(copy.deepcopy(dp), (0, 0, 0))]\n",
    "for i in range(n):\n",
    "    for j in range(m + 1):\n",
    "        for k in range(min(j, a[i]) + 1):\n",
    "            dp[i + 1][j] += dp[i][j - k]\n",
    "            film.append((copy.deepcopy(dp), (i, j, k)))\n",
    "@ipywidgets.interact(flame=ipywidgets.IntSlider(min=0, max=len(film) - 1))\n",
    "def show_table_transition(flame: int) -> None:\n",
    "    dp, (i, j, k) = film[flame]\n",
    "    table = pd.DataFrame(dp)\n",
    "    with pd.option_context('display.float_format', '{:.0g}'.format):\n",
    "        table = table.style.set_properties(subset=pd.IndexSlice[i + 1, j], **{\"background-color\": \"#FF7000\"})\\\n",
    "                           .set_properties(subset=pd.IndexSlice[i, j - k], **{\"background-color\": \"#FFBF00\"})\n",
    "        display(table)"
   ]
  },
  {
   "cell_type": "code",
   "execution_count": 17,
   "metadata": {},
   "outputs": [
    {
     "data": {
      "application/vnd.jupyter.widget-view+json": {
       "model_id": "69e3d1268dc844159b5652b59768b5bf",
       "version_major": 2,
       "version_minor": 0
      },
      "text/plain": [
       "interactive(children=(IntSlider(value=0, description='flame', max=23), Output()), _dom_classes=('widget-intera…"
      ]
     },
     "metadata": {},
     "output_type": "display_data"
    }
   ],
   "source": [
    "# 重複組み合わせ（ナイーブ解・組み合わせの要素）\n",
    "n: int = 3\n",
    "m: int = 3\n",
    "a: list[int] = [1, 2, 3]\n",
    "\n",
    "dp = [[[] for _ in range(m + 1)] for _ in range(n + 1)]\n",
    "dp[0][0].append('')\n",
    "\n",
    "film = [(copy.deepcopy(dp), (0, 0, 0))]\n",
    "for i in range(n):\n",
    "    for j in range(m + 1):\n",
    "        for k in range(min(j, a[i]) + 1):\n",
    "            for e in dp[i][j - k]:\n",
    "                dp[i + 1][j].append(e + str(i) * k)\n",
    "                film.append((copy.deepcopy(dp), (i, j, k)))\n",
    "\n",
    "@ipywidgets.interact(flame=ipywidgets.IntSlider(min=0, max=len(film) - 1))\n",
    "def show_table_transition(flame: int) -> None:\n",
    "    dp, (i, j, k) = film[flame]\n",
    "    table = pd.DataFrame(dp)\n",
    "    with pd.option_context('display.float_format', '{:.0g}'.format):\n",
    "        table = table.style.set_properties(subset=pd.IndexSlice[i + 1, j], **{\"background-color\": \"#FF7000\"})\\\n",
    "                           .set_properties(subset=pd.IndexSlice[i, j - k], **{\"background-color\": \"#FFBF00\"})\n",
    "        display(table)"
   ]
  },
  {
   "attachments": {},
   "cell_type": "markdown",
   "metadata": {},
   "source": [
    "$$\n",
    "\\begin{aligned}\n",
    "    dp[i][j] &:= i番目までの品物からj個選ぶ組み合わせの総数 \\\\\n",
    "    dp[i][0] &= 1 \\\\\n",
    "    dp[i+1][j] &= \\sum_{k=0}^{\\min(j,a[i])}dp[i][j-k] \\\\\n",
    "             &= \\sum_{k=0}^{\\min(j-1,a[i])}dp[i][j-1-k]+dp[i][j]-dp[i][j-1-a_{i}] \\\\\n",
    "             &= dp[i+1][j-1]+dp[i][j]-dp[i][j-1-a_{i}]\n",
    "\\end{aligned}\n",
    "$$"
   ]
  },
  {
   "attachments": {},
   "cell_type": "markdown",
   "metadata": {},
   "source": [
    "![重複組み合わせ](assets/overlapping_combination.png) ![重複組み合わせ2](assets/overlapping_combination2.png)\n",
    "\n",
    "【出典】[蟻本 p.67 / 個人的な競プロメモ](https://scrapbox.io/pocala-kyopro/%E8%9F%BB%E6%9C%AC_p.67)"
   ]
  },
  {
   "cell_type": "code",
   "execution_count": 22,
   "metadata": {},
   "outputs": [
    {
     "data": {
      "application/vnd.jupyter.widget-view+json": {
       "model_id": "6af893b3b6b04b2d9f3e528ff6db5894",
       "version_major": 2,
       "version_minor": 0
      },
      "text/plain": [
       "interactive(children=(IntSlider(value=0, description='flame', max=16), Output()), _dom_classes=('widget-intera…"
      ]
     },
     "metadata": {},
     "output_type": "display_data"
    }
   ],
   "source": [
    "# 重複組み合わせ\n",
    "n: int = 4\n",
    "m: int = 4\n",
    "a: list[int] = [1, 2, 3, 2]\n",
    "\n",
    "MOD: int = 998244353\n",
    "\n",
    "dp = [[0 for _ in range(m + 1)] for _ in range(n + 1)]\n",
    "for i in range(n + 1):\n",
    "    dp[i][0] = 1\n",
    "\n",
    "film = [(copy.deepcopy(dp), (0, 1))]\n",
    "for i in range(n):\n",
    "    for j in range(1, m + 1):\n",
    "        if j - 1 - a[i] >= 0:\n",
    "            dp[i + 1][j] = (dp[i + 1][j - 1] + dp[i][j] - dp[i][j - 1 - a[i]]) % MOD\n",
    "        else:\n",
    "            dp[i + 1][j] = (dp[i + 1][j - 1] + dp[i][j]) % MOD\n",
    "        film.append((copy.deepcopy(dp), (i, j)))\n",
    "\n",
    "@ipywidgets.interact(flame=ipywidgets.IntSlider(min=0, max=len(film) - 1))\n",
    "def show_table_transition(flame: int) -> None:\n",
    "    dp, (i, j) = film[flame]\n",
    "    table = pd.DataFrame(dp)\n",
    "    with pd.option_context('display.float_format', '{:.0g}'.format):\n",
    "        table = table.style.set_properties(subset=pd.IndexSlice[i + 1, j], **{\"background-color\": \"yellow\"})\\\n",
    "                           .set_properties(subset=pd.IndexSlice[i + 1, j - 1], **{\"background-color\": \"red\"})\\\n",
    "                           .set_properties(subset=pd.IndexSlice[i, j], **{\"background-color\": \"red\"})\n",
    "        if j - 1 - a[i] >= 0:\n",
    "            table.set_properties(subset=pd.IndexSlice[i, j - 1 - a[i]], **{\"background-color\": \"blue\"})\n",
    "        display(table)"
   ]
  }
 ],
 "metadata": {
  "kernelspec": {
   "display_name": "Python 3",
   "language": "python",
   "name": "python3"
  },
  "language_info": {
   "codemirror_mode": {
    "name": "ipython",
    "version": 3
   },
   "file_extension": ".py",
   "mimetype": "text/x-python",
   "name": "python",
   "nbconvert_exporter": "python",
   "pygments_lexer": "ipython3",
   "version": "3.10.10"
  },
  "orig_nbformat": 4,
  "vscode": {
   "interpreter": {
    "hash": "aee8b7b246df8f9039afb4144a1f6fd8d2ca17a180786b69acc140d282b71a49"
   }
  }
 },
 "nbformat": 4,
 "nbformat_minor": 2
}
