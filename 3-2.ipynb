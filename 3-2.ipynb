{
 "cells": [
  {
   "attachments": {},
   "cell_type": "markdown",
   "metadata": {},
   "source": [
    "# 3-2 厳選！頻出テクニック（１）\n"
   ]
  },
  {
   "attachments": {},
   "cell_type": "markdown",
   "metadata": {},
   "source": [
    "## しゃくとり法\n"
   ]
  },
  {
   "attachments": {},
   "cell_type": "markdown",
   "metadata": {},
   "source": [
    "![syakutori](assets/syakutori_warm.jpg)\n"
   ]
  },
  {
   "cell_type": "code",
   "execution_count": 1,
   "metadata": {},
   "outputs": [],
   "source": [
    "# Subsequence（二分探索）\n",
    "\n",
    "import itertools\n",
    "\n",
    "n: int\n",
    "S: int\n",
    "a: list[int]\n",
    "\n",
    "\n",
    "def solve() -> None:\n",
    "    acc = list(itertools.accumulate(a, initial=0))\n",
    "\n",
    "    ans = float('inf')\n",
    "    for i in range(1, n + 1):\n",
    "        lo = 0\n",
    "        hi = i\n",
    "        if acc[i] < S:\n",
    "            continue\n",
    "        c = lambda x: acc[i] - acc[x] < S\n",
    "        while hi - lo > 1:\n",
    "            mid = (hi + lo) // 2\n",
    "            if c(mid):\n",
    "                hi = mid\n",
    "            else:\n",
    "                lo = mid\n",
    "        ans = min(ans, i - lo)\n",
    "\n",
    "    return ans"
   ]
  },
  {
   "cell_type": "code",
   "execution_count": 2,
   "metadata": {},
   "outputs": [
    {
     "data": {
      "text/plain": [
       "2"
      ]
     },
     "execution_count": 2,
     "metadata": {},
     "output_type": "execute_result"
    }
   ],
   "source": [
    "n = 10\n",
    "S = 15\n",
    "a = [5, 1, 3, 5, 10, 7, 4, 9, 2, 8]\n",
    "\n",
    "solve()"
   ]
  },
  {
   "cell_type": "code",
   "execution_count": 3,
   "metadata": {},
   "outputs": [
    {
     "data": {
      "text/plain": [
       "3"
      ]
     },
     "execution_count": 3,
     "metadata": {},
     "output_type": "execute_result"
    }
   ],
   "source": [
    "n = 5\n",
    "S = 11\n",
    "a = [1, 2, 3, 4, 5]\n",
    "\n",
    "solve()"
   ]
  },
  {
   "cell_type": "code",
   "execution_count": 4,
   "metadata": {},
   "outputs": [],
   "source": [
    "# Subsequence（二分探索，区間の左側を全探索する場合）\n",
    "\n",
    "import itertools\n",
    "\n",
    "n: int\n",
    "S: int\n",
    "a: list[int]\n",
    "\n",
    "\n",
    "def solve() -> None:\n",
    "    acc = list(itertools.accumulate(a, initial=0))\n",
    "\n",
    "    ans = float('inf')\n",
    "    for i in range(n):\n",
    "        lo = 0\n",
    "        hi = n\n",
    "        c = lambda x: acc[x] - acc[i] > S\n",
    "        while hi - lo > 1:\n",
    "            mid = (hi + lo) // 2\n",
    "            if c(mid):\n",
    "                hi = mid\n",
    "            else:\n",
    "                lo = mid\n",
    "        if acc[hi] - acc[i] > S:\n",
    "            print(f'left={i}, right={hi}')\n",
    "            ans = min(ans, hi - i)\n",
    "\n",
    "    return ans"
   ]
  },
  {
   "cell_type": "code",
   "execution_count": 5,
   "metadata": {},
   "outputs": [
    {
     "name": "stdout",
     "output_type": "stream",
     "text": [
      "left=0, right=5\n",
      "left=1, right=5\n",
      "left=2, right=5\n",
      "left=3, right=6\n",
      "left=4, right=6\n",
      "left=5, right=8\n",
      "left=6, right=10\n",
      "left=7, right=10\n"
     ]
    },
    {
     "data": {
      "text/plain": [
       "2"
      ]
     },
     "execution_count": 5,
     "metadata": {},
     "output_type": "execute_result"
    }
   ],
   "source": [
    "n = 10\n",
    "S = 15\n",
    "a = [5, 1, 3, 5, 10, 7, 4, 9, 2, 8]\n",
    "\n",
    "solve()"
   ]
  },
  {
   "cell_type": "code",
   "execution_count": 6,
   "metadata": {},
   "outputs": [
    {
     "name": "stdout",
     "output_type": "stream",
     "text": [
      "left=0, right=5\n",
      "left=1, right=5\n",
      "left=2, right=5\n"
     ]
    },
    {
     "data": {
      "text/plain": [
       "3"
      ]
     },
     "execution_count": 6,
     "metadata": {},
     "output_type": "execute_result"
    }
   ],
   "source": [
    "n = 5\n",
    "S = 11\n",
    "a = [1, 2, 3, 4, 5]\n",
    "\n",
    "solve()"
   ]
  },
  {
   "attachments": {},
   "cell_type": "markdown",
   "metadata": {},
   "source": [
    "### 観察\n"
   ]
  },
  {
   "attachments": {},
   "cell_type": "markdown",
   "metadata": {},
   "source": [
    "-   区間の左端，右端は，左＜右を満たしながら単調増加\n",
    "-   区間の左端を固定した時，条件を満たすような区間の右端を二分探索以上に高速に探索できないか\n"
   ]
  },
  {
   "attachments": {},
   "cell_type": "markdown",
   "metadata": {},
   "source": [
    "### しゃくとり法の一般化\n"
   ]
  },
  {
   "attachments": {},
   "cell_type": "markdown",
   "metadata": {},
   "source": [
    "```py\n",
    "n: int  # 走査する区間の長さ\n",
    "\n",
    "right = 0\n",
    "for left in range(n):\n",
    "    while right < n and (...):  # rightを一つ進めてもokか確認\n",
    "        (...)  # 処理\n",
    "        right += 1\n",
    "\n",
    "    # 現在のrightは条件を満たす最大値なので，ansを変化させ得る\n",
    "    ans = ...\n",
    "\n",
    "    # 次のleftに移る前準備\n",
    "    (...)\n",
    "```\n"
   ]
  },
  {
   "attachments": {},
   "cell_type": "markdown",
   "metadata": {},
   "source": [
    "有効な場面\n",
    "\n",
    "-   「条件」を満たす区間 (連続する部分列) のうち、最小の長さを求めよ\n",
    "-   「条件」を満たす区間 (連続する部分列) のうち、最大の長さを求めよ\n",
    "-   「条件」を満たす区間 (連続する部分列) を数え上げよ\n"
   ]
  },
  {
   "attachments": {},
   "cell_type": "markdown",
   "metadata": {},
   "source": [
    "-   条件を満たす区間に**単調性**が見られる場合\n",
    "\n",
    "Q. $\\sum_{i=left}^{right}{A_i}>15$ となる $left, right$ は？ $A_i=\\{5, 1, 3, 5, 10, 7, 4, 9, 2, 8\\}$  \n",
    "A. $left$ を固定すると，$right$ は単調増加する\n",
    "| 5 | 1 | 3 | 5 | 10 | 7 | 4 | 9 | 2 | 8 |\n",
    "| - | - | - | - | - | - | - | - | - | - |\n",
    "| 5 | 1 | 3 | 5 | 10 | - | - | - | - | - |\n",
    "| - | 1 | 3 | 5 | 10 | - | - | - | - | - |\n",
    "| - | - | 3 | 5 | 10 | - | - | - | - | - |\n",
    "| - | - | - | 5 | 10 | - | - | - | - | - |\n",
    "| - | - | - | - | 10 | 7 | - | - | - | - |\n",
    "| - | - | - | - | - | 7 | 4 | 9 | - | - |\n",
    "| - | - | - | - | - | - | 4 | 9 | 2 | - |\n",
    "| - | - | - | - | - | - | - | 9 | 2 | 8 |\n"
   ]
  },
  {
   "cell_type": "code",
   "execution_count": 7,
   "metadata": {},
   "outputs": [],
   "source": [
    "# Subsequence（しゃくとり法）\n",
    "\n",
    "n: int\n",
    "S: int\n",
    "a: list[int]\n",
    "\n",
    "\n",
    "def solve() -> None:\n",
    "    right = 0\n",
    "    total = 0\n",
    "    ans = n + 1\n",
    "    for left in range(n):\n",
    "        while right < n and total < S:  # rightを一つ進めてもokか確認\n",
    "            total += a[right]  # 処理\n",
    "            right += 1\n",
    "\n",
    "        # 現在のrightは条件を満たす最大値なので，ansを変化させ得る\n",
    "        if total >= S:\n",
    "            ans = min(ans, right - left)\n",
    "\n",
    "        # 次のleftに移る前準備\n",
    "        total -= a[left]\n",
    "\n",
    "    print(ans if ans <= n else -1)"
   ]
  },
  {
   "cell_type": "code",
   "execution_count": 8,
   "metadata": {},
   "outputs": [
    {
     "name": "stdout",
     "output_type": "stream",
     "text": [
      "2\n"
     ]
    }
   ],
   "source": [
    "n = 10\n",
    "S = 15\n",
    "a = [5, 1, 3, 5, 10, 7, 4, 9, 2, 8]\n",
    "solve()"
   ]
  },
  {
   "cell_type": "code",
   "execution_count": 9,
   "metadata": {},
   "outputs": [
    {
     "name": "stdout",
     "output_type": "stream",
     "text": [
      "3\n"
     ]
    }
   ],
   "source": [
    "n = 5\n",
    "S = 11\n",
    "a = [1, 2, 3, 4, 5]\n",
    "solve()"
   ]
  },
  {
   "cell_type": "code",
   "execution_count": 10,
   "metadata": {},
   "outputs": [],
   "source": [
    "# Jessica's Reading Problem\n",
    "\n",
    "P: int\n",
    "a: list[int]\n",
    "\n",
    "\n",
    "def solve() -> None:\n",
    "    things = len(set(a))\n",
    "    counter = dict()\n",
    "\n",
    "    right = 0\n",
    "    ans = len(a) + 1\n",
    "    for left in range(P):\n",
    "        while right < P and len(counter) < things:  # rightを一つ進めてもokか確認\n",
    "            counter[a[right]] = counter.get(a[right], 0) + 1  # 処理\n",
    "            right += 1\n",
    "\n",
    "        # 現在のrightは条件を満たす最大値なので，ansを変化させ得る\n",
    "        if len(counter) == things:\n",
    "            ans = min(ans, right - left)\n",
    "\n",
    "        # 次のleftに移る前準備\n",
    "        counter[a[left]] -= 1\n",
    "        if counter[a[left]] == 0:\n",
    "            del counter[a[left]]\n",
    "        # print(left, right, counter)\n",
    "\n",
    "    print(ans)"
   ]
  },
  {
   "cell_type": "code",
   "execution_count": 11,
   "metadata": {},
   "outputs": [
    {
     "name": "stdout",
     "output_type": "stream",
     "text": [
      "2\n"
     ]
    }
   ],
   "source": [
    "P = 5\n",
    "a = [1, 8, 8, 8, 1]\n",
    "solve()"
   ]
  },
  {
   "cell_type": "code",
   "execution_count": 12,
   "metadata": {},
   "outputs": [
    {
     "name": "stdout",
     "output_type": "stream",
     "text": [
      "4\n"
     ]
    }
   ],
   "source": [
    "P = 9\n",
    "a = [1, 2, 3, 2, 1, 1, 4, 2, 3]\n",
    "solve()"
   ]
  },
  {
   "attachments": {},
   "cell_type": "markdown",
   "metadata": {},
   "source": [
    "Jessica's Reading Problem: 例 2 に対応する区間の変化\n",
    "\n",
    "| 1   | 2   | 3   | 2   | 1   | 1   | 4   | 2   | 3   |\n",
    "| --- | --- | --- | --- | --- | --- | --- | --- | --- |\n",
    "| 1   | 2   | 3   | 2   | 1   | 1   | 4   | -   | -   |\n",
    "| -   | 1   | 3   | 2   | 1   | 1   | 4   | -   | -   |\n",
    "| -   | -   | 3   | 2   | 1   | 1   | 4   | -   | -   |\n",
    "| -   | -   | -   | 2   | 1   | 1   | 4   | 2   | 3   |\n",
    "| -   | -   | -   | -   | 1   | 1   | 4   | 2   | 3   |\n",
    "| -   | -   | -   | -   | -   | 1   | 4   | 2   | 3   |\n",
    "| -   | -   | -   | -   | -   | -   | -   | -   | -   |\n",
    "| -   | -   | -   | -   | -   | -   | -   | -   | -   |\n"
   ]
  },
  {
   "attachments": {},
   "cell_type": "markdown",
   "metadata": {},
   "source": [
    "## 反転\n"
   ]
  },
  {
   "attachments": {},
   "cell_type": "markdown",
   "metadata": {},
   "source": [
    "### Face The Right Way\n"
   ]
  },
  {
   "cell_type": "code",
   "execution_count": 42,
   "metadata": {},
   "outputs": [
    {
     "data": {
      "text/html": [
       "<!DOCTYPE html>\n",
       "<html>\n",
       "    <head>\n",
       "        <title>牛の方向反転</title>\n",
       "        <meta charset=\"UTF-8\" />\n",
       "        <style>\n",
       "            /* 牛のスタイル */\n",
       "            .cow {\n",
       "                display: inline-block;\n",
       "                width: 50px;\n",
       "                height: 50px;\n",
       "                /* background-color: brown; */\n",
       "                border: 1px solid black;\n",
       "                border-radius: 50%;\n",
       "                text-align: center;\n",
       "                font-size: 24px;\n",
       "                font-weight: bold;\n",
       "                color: white;\n",
       "                line-height: 50px;\n",
       "            }\n",
       "\n",
       "            /* 左向きの牛のスタイル */\n",
       "            .cow-left::before {\n",
       "                content: \"←\";\n",
       "            }\n",
       "            .cow-left {\n",
       "                background-color: green;\n",
       "            }\n",
       "\n",
       "            /* 右向きの牛のスタイル */\n",
       "            .cow-right::before {\n",
       "                content: \"→\";\n",
       "            }\n",
       "            .cow-right {\n",
       "                background-color: brown;\n",
       "            }\n",
       "        </style>\n",
       "    </head>\n",
       "    <body>\n",
       "        <h1>Face The Right Way</h1>\n",
       "\n",
       "        <!-- 牛の配列 -->\n",
       "        <div id=\"cows\"></div>\n",
       "\n",
       "        <!-- kの入力欄 -->\n",
       "        <label for=\"k\">k:</label>\n",
       "        <input type=\"number\" id=\"k\" value=\"3\" />\n",
       "\n",
       "        <script>\n",
       "            var cowCount = 10; // 牛の数を指定する\n",
       "            var cows = []; // 牛の方向を表す配列\n",
       "            for (var i = 0; i < cowCount; i++) {\n",
       "                cows.push(Math.round(Math.random())); // 0 or 1\n",
       "            }\n",
       "\n",
       "            // 牛の配列を生成する\n",
       "            var cowDivs = document.getElementById(\"cows\");\n",
       "            for (var i = 0; i < cowCount; i++) {\n",
       "                var cowDiv = document.createElement(\"div\");\n",
       "                cowDiv.classList.add(\"cow\");\n",
       "                if (cows[i] == 0) {\n",
       "                    cowDiv.classList.add(\"cow-left\");\n",
       "                } else {\n",
       "                    cowDiv.classList.add(\"cow-right\");\n",
       "                }\n",
       "                cowDiv.addEventListener(\"click\", function () {\n",
       "                    reverseCows(this); // クリックされた牛を反転する\n",
       "                });\n",
       "                cowDivs.appendChild(cowDiv);\n",
       "            }\n",
       "\n",
       "            // 牛の方向を反転する関数\n",
       "            function reverseCows(clickedCow) {\n",
       "                var k = Number(document.getElementById(\"k\").value);\n",
       "                var startIndex = Array.prototype.indexOf.call(\n",
       "                    cowDivs.children,\n",
       "                    clickedCow\n",
       "                );\n",
       "                if (startIndex + k > cowCount) {\n",
       "                    return;\n",
       "                }\n",
       "                for (\n",
       "                    var i = startIndex;\n",
       "                    i <= Math.min(startIndex + k - 1, cowCount - 1);\n",
       "                    i++\n",
       "                ) {\n",
       "                    if (i >= startIndex + k) {\n",
       "                        break; // 自分より右にk個以上存在する牛は反転しない\n",
       "                    }\n",
       "                    cows[i] = 1 - cows[i]; // 0と1を反転する\n",
       "                    var cowDiv = cowDivs.children[i];\n",
       "                    cowDiv.classList.toggle(\"cow-left\");\n",
       "                    cowDiv.classList.toggle(\"cow-right\");\n",
       "                }\n",
       "            }\n",
       "        </script>\n",
       "    </body>\n",
       "</html>\n"
      ],
      "text/plain": [
       "<IPython.core.display.HTML object>"
      ]
     },
     "execution_count": 42,
     "metadata": {},
     "output_type": "execute_result"
    }
   ],
   "source": [
    "import IPython.display\n",
    "\n",
    "IPython.display.HTML(filename='./assets/3-2/01_Face_The_Right_Way.html')"
   ]
  },
  {
   "attachments": {},
   "cell_type": "markdown",
   "metadata": {},
   "source": [
    "-   一度反転させた区間は再度反転させる必要はない\n",
    "    -   最初から反転させなければよい\n",
    "-   反転させる順番は考慮しない\n",
    "    -   各々の牛が何回反転したかによって最終的な向きが決まる\n",
    "-   => 反転のさせ方は（存在するならば）一意に定まる\n",
    "\n",
    "アルゴリズム\n",
    "\n",
    "-   $N\\le 5000$ より，$O(N^2)$ まで可能．そのため `k` は全探索できそう\n",
    "-   **一番先頭の牛を回転させる方法は，区間 `[0:k]` を選択することのみ**\n",
    "-   先頭の牛から順番に必要な処理を定めることで，問題のサイズを小さくできる\n",
    "\n",
    "実装\n",
    "\n",
    "-   直前 `k` 個の牛を反転させたかどうかを記録しておくことで，今見ている牛が向いている方向が分かる\n"
   ]
  },
  {
   "cell_type": "code",
   "execution_count": 14,
   "metadata": {},
   "outputs": [],
   "source": [
    "# Face The Right Way\n",
    "\n",
    "n: int\n",
    "# dir[i] := 牛iが向いている方向 (0: F, 1: B)\n",
    "dir: list[int]\n",
    "\n",
    "\n",
    "def calc(k) -> int:\n",
    "    # f[i] := 区間[i,i+k-1]を反転させたかどうか\n",
    "    f = [0] * n\n",
    "\n",
    "    res = 0\n",
    "    total = 0\n",
    "    for i in range(n - k + 1):\n",
    "        if (dir[i] + total) % 2:\n",
    "            res += 1\n",
    "            f[i] = 1\n",
    "        total += f[i]\n",
    "        if i - k + 1 >= 0:\n",
    "            total -= f[i - k + 1]\n",
    "\n",
    "    # 残りの牛k頭についてチェック\n",
    "    for i in range(n - k + 1, n):\n",
    "        if (dir[i] + total) % 2:\n",
    "            return -1\n",
    "        total -= f[i - k + 1]\n",
    "\n",
    "    return res\n",
    "\n",
    "\n",
    "def solve() -> None:\n",
    "    ans_k = 1\n",
    "    ans_m = n\n",
    "    for k in range(1, n):\n",
    "        m = calc(k)\n",
    "        if m != -1 and ans_m > m:\n",
    "            ans_m = m\n",
    "            ans_k = k\n",
    "    print(ans_k, ans_m)\n"
   ]
  },
  {
   "cell_type": "code",
   "execution_count": 15,
   "metadata": {},
   "outputs": [
    {
     "name": "stdout",
     "output_type": "stream",
     "text": [
      "1 3\n"
     ]
    }
   ],
   "source": [
    "N = 7\n",
    "dir = [1, 1, 0, 1, 0, 1, 1]\n",
    "\n",
    "solve()"
   ]
  },
  {
   "attachments": {},
   "cell_type": "markdown",
   "metadata": {},
   "source": [
    "### Fliptile\n"
   ]
  },
  {
   "cell_type": "code",
   "execution_count": 53,
   "metadata": {},
   "outputs": [
    {
     "data": {
      "text/html": [
       "<!DOCTYPE html>\n",
       "<html>\n",
       "    <head>\n",
       "        <title>Fliptile</title>\n",
       "        <meta charset=\"UTF-8\" />\n",
       "        <style>\n",
       "            /* マスのスタイル */\n",
       "            .cell {\n",
       "                display: inline-block;\n",
       "                width: 50px;\n",
       "                height: 50px;\n",
       "                border: 1px solid black;\n",
       "                border-radius: 50%; /* 丸くする */\n",
       "            }\n",
       "\n",
       "            /* 黒いマスのスタイル */\n",
       "            .black {\n",
       "                background-color: black;\n",
       "            }\n",
       "\n",
       "            /* 黄色いマスのスタイル */\n",
       "            .yellow {\n",
       "                background-color: #ffff00;\n",
       "            }\n",
       "        </style>\n",
       "    </head>\n",
       "    <body>\n",
       "        <h1>Fliptile</h1>\n",
       "\n",
       "        <!-- マスの配列 -->\n",
       "        <div id=\"board\"></div>\n",
       "\n",
       "        <script>\n",
       "            var size = 4; // マスの数を指定する\n",
       "\n",
       "            // マスの配列を生成する\n",
       "            var board = document.getElementById(\"board\");\n",
       "            for (var row = 0; row < size; row++) {\n",
       "                var rowDiv = document.createElement(\"div\");\n",
       "                board.appendChild(rowDiv);\n",
       "                for (var col = 0; col < size; col++) {\n",
       "                    var cellDiv = document.createElement(\"div\");\n",
       "                    cellDiv.classList.add(\"cell\");\n",
       "                    if (Math.random() > 0.5) {\n",
       "                        cellDiv.classList.add(\"black\");\n",
       "                    } else {\n",
       "                        cellDiv.classList.add(\"yellow\");\n",
       "                    }\n",
       "                    cellDiv.setAttribute(\n",
       "                        \"onclick\",\n",
       "                        \"toggleColor(\" + row + \",\" + col + \")\"\n",
       "                    );\n",
       "                    rowDiv.appendChild(cellDiv);\n",
       "                }\n",
       "            }\n",
       "\n",
       "            // マスの色を反転する関数\n",
       "            function toggleColor(row, col) {\n",
       "                var cells = document.getElementsByClassName(\"cell\");\n",
       "                var cellIndex = size * row + col;\n",
       "                var targetCell = cells[cellIndex];\n",
       "                targetCell.classList.toggle(\"black\");\n",
       "                targetCell.classList.toggle(\"yellow\");\n",
       "\n",
       "                if (row > 0) {\n",
       "                    var aboveIndex = size * (row - 1) + col;\n",
       "                    var aboveCell = cells[aboveIndex];\n",
       "                    aboveCell.classList.toggle(\"black\");\n",
       "                    aboveCell.classList.toggle(\"yellow\");\n",
       "                }\n",
       "                if (row < size - 1) {\n",
       "                    var belowIndex = size * (row + 1) + col;\n",
       "                    var belowCell = cells[belowIndex];\n",
       "                    belowCell.classList.toggle(\"black\");\n",
       "                    belowCell.classList.toggle(\"yellow\");\n",
       "                }\n",
       "                if (col > 0) {\n",
       "                    var leftIndex = size * row + (col - 1);\n",
       "                    var leftCell = cells[leftIndex];\n",
       "                    leftCell.classList.toggle(\"black\");\n",
       "                    leftCell.classList.toggle(\"yellow\");\n",
       "                }\n",
       "                if (col < size - 1) {\n",
       "                    var rightIndex = size * row + (col + 1);\n",
       "                    var rightCell = cells[rightIndex];\n",
       "                    rightCell.classList.toggle(\"black\");\n",
       "                    rightCell.classList.toggle(\"yellow\");\n",
       "                }\n",
       "            }\n",
       "        </script>\n",
       "    </body>\n",
       "</html>\n"
      ],
      "text/plain": [
       "<IPython.core.display.HTML object>"
      ]
     },
     "execution_count": 53,
     "metadata": {},
     "output_type": "execute_result"
    }
   ],
   "source": [
    "import IPython.display\n",
    "\n",
    "IPython.display.HTML(filename='./assets/3-2/02_Fliptile.html')"
   ]
  },
  {
   "attachments": {},
   "cell_type": "markdown",
   "metadata": {},
   "source": [
    "-   _Face The Right Way_ と同様に，反転のさせ方は順番に依らない，また複数回反転させる必要はない\n",
    "\n",
    "アルゴリズム\n",
    "\n",
    "-   _Face The Right Way_ では左から順番に確定させていくことで，問題サイズを小さくしていった\n",
    "-   今回の問題では，例えば左上のマスは右と下のマスによって自由に変化させ得るため確定させることができない\n",
    "-   => **上の段のマスだけ全探索することで，それより以降のマスの反転のさせ方が一意に定まる**\n"
   ]
  },
  {
   "cell_type": "code",
   "execution_count": 17,
   "metadata": {},
   "outputs": [
    {
     "data": {
      "text/plain": [
       "Ellipsis"
      ]
     },
     "execution_count": 17,
     "metadata": {},
     "output_type": "execute_result"
    }
   ],
   "source": [
    "# Fliptile\n",
    "\n",
    "..."
   ]
  },
  {
   "attachments": {},
   "cell_type": "markdown",
   "metadata": {},
   "source": [
    "### 集合の整数表現\n"
   ]
  },
  {
   "attachments": {},
   "cell_type": "markdown",
   "metadata": {},
   "source": [
    "集合 $\\{0,1,...,n-1\\}$ の部分集合 $S$ は次のようにエンコードされる．$$f(S)=\\sum_{i\\in S}2^i$$\n",
    "\n",
    "-   空集合: `0`\n",
    "-   $i$ 番目の要素のみからなる集合 $\\{i\\}$: `1 << i`\n",
    "-   $n$ 個の要素のみからなる集合 $\\{0,1,...,n-1\\}$: `(1 << n) - 1`\n",
    "-   要素 $i$ が $S$ に含まれるか $i\\in S$: `if (S >> i) & 1`\n",
    "-   集合 $S$ に要素 $i$ を加える $S\\cup\\{i\\}$: `S | (1 << i)`\n",
    "-   集合 $S$ から要素 $i$ を取り除く $S\\setminus\\{i\\}$: `S & ~(1 << i)`\n",
    "-   集合 $S$ と $T$ の和集合 $S\\cup T$: `S | T`\n",
    "-   集合 $S$ と $T$ の共通部分 $S\\cap T$: `S & T`\n",
    "-   集合 $T$ が集合 $S$ に含まれるか: `if S & T == T`\n",
    "\n",
    "部分集合の列挙\n",
    "\n",
    "-   集合 $\\{0,1,...,n-1\\}$ の全ての部分集合の列挙\n",
    "    ```py\n",
    "    for s in range(1 << n):\n",
    "        ...\n",
    "    ```\n",
    "-   部分集合の部分集合を列挙\n",
    "    ```py\n",
    "    t = s\n",
    "    while t > 0:\n",
    "        ...\n",
    "        t = (t - 1) & s\n",
    "    ```\n",
    "-   集合 $\\{0,1,...,n-1\\}$ のサイズ $k$ の部分集合の列挙\n",
    "    ```py\n",
    "    comb = (1 << k) - 1\n",
    "    while comb < (1 << n):\n",
    "        ...\n",
    "        x = comb & -comb\n",
    "        y = comb + x\n",
    "        comb = (((comb & -y) // x) >> 1) | y\n",
    "    ```\n",
    "    -   0 でない整数 $x$ に対し，$-x$ は 2 の補数を表す\n",
    "        -   補数とは，元の数に足した時に桁上がりする最小の数\n",
    "    -   補数との&演算で最下位ビットが取得できる\n"
   ]
  },
  {
   "attachments": {},
   "cell_type": "markdown",
   "metadata": {},
   "source": [
    "**Note**\n",
    "\n",
    "-   $i\\subset j$ のとき，$i<j$\n",
    "    -   逆は成り立たない\n",
    "-   $\\{0,1,...,n-1\\}$ の部分集合の部分集合の列挙の計算量は $O(3^n)$\n",
    "    ```py\n",
    "    for s in range(1 << n):\n",
    "        t = s\n",
    "        while t > 0:\n",
    "            t = (t - 1) & s\n",
    "    ```\n",
    "    -   $10^7<3^{15}<10^8$\n"
   ]
  },
  {
   "attachments": {},
   "cell_type": "markdown",
   "metadata": {},
   "source": [
    "## 弾性衝突\n"
   ]
  },
  {
   "attachments": {},
   "cell_type": "markdown",
   "metadata": {},
   "source": [
    "**POINT**\n",
    "\n",
    "-   ボールが一つだけの場合，高さ $H$ から落下するのにかかる時間は $$t=\\sqrt{\\frac{2H}{g}}$$\n",
    "-   時刻 $T$ での位置は $kt\\le T$ となる最大の $k$ に対して，$$f(x) = \\begin{cases}    H-\\frac{1}{2}g(T-kt)^2 & (k\\text{ が偶数}) \\\\    H-\\frac{1}{2}g(kt+t-T)^2 & (k\\text{ が奇数}) \\\\\\end{cases}$$\n",
    "    -   $t$ は上下に移動する一回の時間\n",
    "    -   $T-kt$ は 最後の上から落ちてくる時間\n",
    "    -   $kt+t-T$ は最後に上から落ちてくる時間\n",
    "-   運動量と運動エネルギーが保存されるため，衝突前後でボールの速度が入れ替わる\n",
    "-   $R>0$ の時は $R=0$ の場合を計算して最後に $2R_i$ を足す\n"
   ]
  },
  {
   "cell_type": "code",
   "execution_count": 18,
   "metadata": {},
   "outputs": [
    {
     "data": {
      "text/plain": [
       "Ellipsis"
      ]
     },
     "execution_count": 18,
     "metadata": {},
     "output_type": "execute_result"
    }
   ],
   "source": [
    "# Physics Experiment\n",
    "\n",
    "g: float = 10.0\n",
    "\n",
    "N: int\n",
    "H: int\n",
    "R: int\n",
    "T: int\n",
    "\n",
    "y: list[float]"
   ]
  },
  {
   "attachments": {},
   "cell_type": "markdown",
   "metadata": {},
   "source": [
    "## 半分全列挙\n"
   ]
  },
  {
   "attachments": {},
   "cell_type": "markdown",
   "metadata": {},
   "source": [
    "-   $N\\le 40$ という制約にピンときたら\n",
    "-   二分探索と一緒に用いられる印象\n"
   ]
  },
  {
   "cell_type": "code",
   "execution_count": 19,
   "metadata": {},
   "outputs": [],
   "source": [
    "# 4 Values whose Sum is 0\n",
    "\n",
    "import bisect\n",
    "\n",
    "n: int\n",
    "A: list[int]\n",
    "B: list[int]\n",
    "C: list[int]\n",
    "D: list[int]\n",
    "\n",
    "\n",
    "def solve() -> None:\n",
    "    cd = sorted(c + d for c in C for d in D)\n",
    "    res = 0\n",
    "    for a in A:\n",
    "        for b in B:\n",
    "            x = -(a + b)\n",
    "            res += bisect.bisect_right(cd, x) - bisect.bisect_left(cd, x)\n",
    "    print(res)\n"
   ]
  },
  {
   "cell_type": "code",
   "execution_count": 20,
   "metadata": {},
   "outputs": [
    {
     "name": "stdout",
     "output_type": "stream",
     "text": [
      "5\n"
     ]
    }
   ],
   "source": [
    "n = 6\n",
    "A = [-45, -41, -36, -36, 26, -32]\n",
    "B = [22, -27, 53, 30, -38, -54]\n",
    "C = [42, 56, -37, -75, -10, -6]\n",
    "D = [-16, 30, 77, -46, 62, 45]\n",
    "\n",
    "solve()"
   ]
  },
  {
   "attachments": {},
   "cell_type": "markdown",
   "metadata": {},
   "source": [
    "**POINT**\n",
    "\n",
    "-   $N<40$ より，前半の $n/2$ 個と後半 $n/2$ 個の選び方を列挙する\n",
    "-   前半の列挙群を全探索し，後半の列挙群から適切なものを選択する\n"
   ]
  },
  {
   "cell_type": "code",
   "execution_count": 21,
   "metadata": {},
   "outputs": [],
   "source": [
    "# 巨大ナップサック\n",
    "\n",
    "import bisect\n",
    "\n",
    "n: int\n",
    "w: list[int]\n",
    "v: list[int]\n",
    "W: int\n",
    "\n",
    "INF = float('inf')\n",
    "\n",
    "\n",
    "def solve() -> None:\n",
    "    n2 = n // 2\n",
    "    ps = []  # (weight, value)\n",
    "    for bit in range(1 << n2):\n",
    "        sw = sv = 0\n",
    "        for shift in range(n2):\n",
    "            if (bit >> shift) & 1:\n",
    "                sw += w[shift]\n",
    "                sv += v[shift]\n",
    "        ps.append((sw, sv))\n",
    "\n",
    "    # 自分より重いにも関わらず価値が小さいものを取り除く\n",
    "    ps.sort(key=lambda x: (x[0], -x[1]))\n",
    "    m = 1\n",
    "    for i in range(1, 1 << n2):\n",
    "        if ps[m - 1][1] < ps[i][1]:\n",
    "            ps[(m := m + 1)] = ps[i]\n",
    "\n",
    "    res = 0\n",
    "    for i in range(1 << (n - n2)):\n",
    "        sw = wv = 0\n",
    "        for j in range(n - n2):\n",
    "            if (i >> j) & 1:\n",
    "                sw += w[n2 + j]\n",
    "                sv += v[n2 + j]\n",
    "            if sw <= W:\n",
    "                tv = bisect.bisect_left(ps, (W - sv, INF)) - 1\n",
    "                res = max(res, sv + ps[tv][1])\n",
    "\n",
    "    print(res)"
   ]
  },
  {
   "cell_type": "code",
   "execution_count": 22,
   "metadata": {},
   "outputs": [
    {
     "name": "stdout",
     "output_type": "stream",
     "text": [
      "22\n"
     ]
    }
   ],
   "source": [
    "n = 4\n",
    "w = [2, 10, 3, 2]\n",
    "v = [3, 2, 4, 2]\n",
    "W = 5\n",
    "solve()"
   ]
  },
  {
   "attachments": {},
   "cell_type": "markdown",
   "metadata": {},
   "source": [
    "$(w,v)=(2,3),(10,2),(3,4),(2,2)$  \n",
    "$(w,v)_{left}=(2,3),(10,2),(w,v)_{right}=(3,4),(2,2)$\n",
    "\n",
    "$(w',v')_{left\\_comb}=(0,0),(2,3),(10,2),(12,5)$  \n",
    "$(w',v')_{left\\_comb}=(0,0),(2,3),(12,5)$  \n",
    "$w_i\\le w_j$ かつ $v_i\\ge v_j$ となるものを取り除く\n"
   ]
  },
  {
   "attachments": {},
   "cell_type": "markdown",
   "metadata": {},
   "source": [
    ":Note\n",
    "\n",
    "-   Python と C++では演算子の優先順位が異なるので注意する\n",
    "    -   例: 12 行目，Python ではシフト演算よりアンド演算の優先度が高い\n"
   ]
  },
  {
   "attachments": {},
   "cell_type": "markdown",
   "metadata": {},
   "source": [
    "## 座標圧縮\n"
   ]
  },
  {
   "attachments": {},
   "cell_type": "markdown",
   "metadata": {},
   "source": [
    "### 1 次元での座標圧縮\n"
   ]
  },
  {
   "attachments": {},
   "cell_type": "markdown",
   "metadata": {},
   "source": [
    "数直線上に $N$ 個のデータ点 $X_1,X_2,...,X_N$ が存在する．($N\\le10^5, -10^9\\le X\\le 10^9$)\n",
    "\n",
    "これらに対して愚直に操作を行う場合，メモリに乗り切らないため，大小関係を維持したまま，データ点間の間隔を取り除くことで情報を圧縮できる．\n"
   ]
  },
  {
   "attachments": {},
   "cell_type": "markdown",
   "metadata": {},
   "source": [
    "$\\{8, 100, 33, 12, 6, 1211\\}$ => $\\{1, 4, 3, 2, 0, 5\\}$\n",
    "\n",
    "$\\{6, 9, 9, 2, 100\\}$ => $\\{1, 2, 2, 0, 3\\}$\n"
   ]
  },
  {
   "cell_type": "code",
   "execution_count": 62,
   "metadata": {},
   "outputs": [],
   "source": [
    "def compress(array):\n",
    "    return {v: i for i, v in enumerate(sorted(set(array)))}"
   ]
  },
  {
   "cell_type": "code",
   "execution_count": 25,
   "metadata": {},
   "outputs": [
    {
     "name": "stdout",
     "output_type": "stream",
     "text": [
      "1 2 2 0 3\n"
     ]
    }
   ],
   "source": [
    "a = [6, 9, 9, 2, 100]\n",
    "compressed = compress(a)\n",
    "print(*map(compressed.get, a))"
   ]
  },
  {
   "attachments": {},
   "cell_type": "markdown",
   "metadata": {},
   "source": [
    "### 2 次元での座標圧縮\n"
   ]
  },
  {
   "attachments": {},
   "cell_type": "markdown",
   "metadata": {},
   "source": [
    "$N$ 個のデータ点 $(X_1,Y_1),(X_2,Y_2),...,(X_N,Y_N)$ が存在する．($N\\le10^5, -10^9\\le X,Y\\le 10^9$)\n",
    "\n",
    "$X_i, Y_i$ は独立に考えられるため，それぞれの座標軸に対し座標圧縮を実現することで操作が可能になる．\n"
   ]
  },
  {
   "cell_type": "code",
   "execution_count": 26,
   "metadata": {},
   "outputs": [],
   "source": [
    "def compress2d(x, y):\n",
    "    return ({x: i\n",
    "             for i, x in enumerate(sorted(x))},\n",
    "            {y: i\n",
    "             for i, y in enumerate(sorted(y))})\n"
   ]
  },
  {
   "cell_type": "code",
   "execution_count": 65,
   "metadata": {},
   "outputs": [
    {
     "data": {
      "image/png": "[encoded data removed]",
      "text/plain": [
       "<Figure size 1000x400 with 2 Axes>"
      ]
     },
     "metadata": {},
     "output_type": "display_data"
    }
   ],
   "source": [
    "import random\n",
    "import matplotlib.pyplot as plt\n",
    "\n",
    "x = [random.randint(1, 100) for _ in range(5)]\n",
    "y = [random.randint(1, 100) for _ in range(5)]\n",
    "\n",
    "compressed_x, compressed_y = compress2d(x, y)\n",
    "\n",
    "_colors = ['red', 'green', 'blue', 'yellow', 'purple']\n",
    "fig, ax = plt.subplots(1, 2, figsize=(10, 4))\n",
    "ax[0].scatter(x, y, c=_colors)\n",
    "ax[1].scatter(list(map(compressed_x.get, x)),\n",
    "              list(map(compressed_y.get, y)),\n",
    "              c=_colors)\n",
    "ax[0].grid()\n",
    "ax[1].grid()\n",
    "ax[1].set_xticks(range(0, 5))\n",
    "ax[1].set_yticks(range(0, 5))\n",
    "ax[0].set_title('before compression')\n",
    "ax[1].set_title('after compression')\n"
   ]
  },
  {
   "cell_type": "code",
   "execution_count": 28,
   "metadata": {},
   "outputs": [],
   "source": [
    "# 領域の個数\n",
    "\n",
    "W: int\n",
    "H: int\n",
    "N: int\n",
    "\n",
    "X1: list[int]\n",
    "X2: list[int]\n",
    "Y1: list[int]\n",
    "Y2: list[int]\n",
    "\n",
    "\n",
    "def bfs(y, x):\n",
    "    ...\n",
    "\n",
    "\n",
    "def compress(x1, x2, w):\n",
    "    xs = []\n",
    "    for i in range(N):\n",
    "        for d in range(-1, 2):\n",
    "            tx1 = x1[i] + d\n",
    "            tx2 = x2[i] + d\n",
    "            if 1 <= tx1 <= w:\n",
    "                xs.append(tx1)\n",
    "            if 1 <= tx2 <= w:\n",
    "                xs.append(tx2)\n",
    "    xs = {v: i for i, v in enumerate(sorted(set(xs)))}\n",
    "    for i in range(N):\n",
    "        x1[i] = xs.get(x1[i])\n",
    "        x2[i] = xs.get(x2[i])\n",
    "    return len(xs)\n",
    "\n",
    "\n",
    "def solve() -> None:\n",
    "    w = compress(X1, X2, W)\n",
    "    h = compress(Y1, Y2, H)\n",
    "\n",
    "    fld = [[0] * w for _ in range(h)]\n",
    "    for i in range(N):\n",
    "        for y in range(Y1[i], Y2[i] + 1):\n",
    "            for x in range(X1[i], X2[i] + 1):\n",
    "                fld[y][x] = 1\n",
    "\n",
    "    ans = 0\n",
    "    for y in range(h):\n",
    "        for x in range(w):\n",
    "            if fld[y][x]:\n",
    "                continue\n",
    "            ans += 1\n",
    "            bfs(y, x)\n"
   ]
  },
  {
   "cell_type": "code",
   "execution_count": 29,
   "metadata": {},
   "outputs": [],
   "source": [
    "W = 10\n",
    "H = 10\n",
    "N = 5\n",
    "X1 = [1, 1, 4, 9, 10]\n",
    "X2 = [6, 10, 4, 9, 10]\n",
    "Y1 = [4, 8, 1, 1, 6]\n",
    "Y2 = [4, 8, 10, 5, 10]\n",
    "\n",
    "solve()"
   ]
  }
 ],
 "metadata": {
  "kernelspec": {
   "display_name": "Python 3",
   "language": "python",
   "name": "python3"
  },
  "language_info": {
   "codemirror_mode": {
    "name": "ipython",
    "version": 3
   },
   "file_extension": ".py",
   "mimetype": "text/x-python",
   "name": "python",
   "nbconvert_exporter": "python",
   "pygments_lexer": "ipython3",
   "version": "3.10.10"
  },
  "orig_nbformat": 4,
  "vscode": {
   "interpreter": {
    "hash": "120702f7e6053f051863eda686c41cf05b980199455e680d50b566abedd1c5d9"
   }
  }
 },
 "nbformat": 4,
 "nbformat_minor": 2
}
