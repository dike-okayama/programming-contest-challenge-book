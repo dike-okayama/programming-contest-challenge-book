{
 "cells": [
  {
   "attachments": {},
   "cell_type": "markdown",
   "metadata": {},
   "source": [
    "# 2-6 数学的な問題を解くコツ\n"
   ]
  },
  {
   "attachments": {},
   "cell_type": "markdown",
   "metadata": {},
   "source": [
    "## ユークリッドの互除法\n"
   ]
  },
  {
   "attachments": {},
   "cell_type": "markdown",
   "metadata": {},
   "source": [
    "### 最大公約数を求める\n"
   ]
  },
  {
   "cell_type": "code",
   "execution_count": null,
   "metadata": {},
   "outputs": [],
   "source": [
    "# 線分上の格子点の個数\n",
    "\n",
    "\n",
    "def gcd(a: int, b: int) -> int:\n",
    "    if b == 0:\n",
    "        return a\n",
    "    return gcd(b, a % b)\n"
   ]
  },
  {
   "attachments": {},
   "cell_type": "markdown",
   "metadata": {},
   "source": [
    "自然数$a, b$に対して，最大公約数を求める関数を$gcd(a,b)$とする．  \n",
    "$a$を$b$で割った商と余りを$p,q$とする．このとき，$$gcd(b,q)=g$$とすると，自然数$k_{1},k_{2}$を利用して，$$b=g\\times k_{1},q=g\\times k_{2}$$と表せ，これらを$a=p\\times b+q$に代入すると，$$a=p\\times g\\times k_{1}+g\\times k_{2}=g\\times(p\\times k_{1}+k_{2})$$により，$gcd(b,q)$は$gcd(a,b)$を割り切る．同様にして，$gcd(a,b)$は$gcd(b,q)$を割り切る．よって，$$gcd(a,b)=gcd(b,q)=gcd(b,a\\%b)$$が示された．\n"
   ]
  },
  {
   "attachments": {},
   "cell_type": "markdown",
   "metadata": {},
   "source": [
    "### 拡張ユークリッドの互除法\n"
   ]
  },
  {
   "cell_type": "code",
   "execution_count": null,
   "metadata": {},
   "outputs": [],
   "source": [
    "# 双六\n",
    "\n",
    "\n",
    "def extgcd(a: int, b: int, x: int, y: int) -> int:\n",
    "    d = a\n",
    "    if b != 0:\n",
    "        d = extgcd(b, a % b, y, x)\n",
    "    else:\n",
    "        x = 1\n",
    "        y = 0\n",
    "    return d\n"
   ]
  },
  {
   "attachments": {},
   "cell_type": "markdown",
   "metadata": {},
   "source": [
    "題意は $ax+by=1$ となる整数 $x,y$ を求めることと同値である．  \n",
    "$gcd(a,b)!=1$ のとき解は存在しないため，以下 $gcd(a,b)=1$ を仮定する．\n",
    "\n",
    "$$bx'+(a\\%b)y'=gcd(a,b)$$\n",
    "の解が求まっているとする．\n",
    "\n",
    "このとき\n",
    "$$a\\%b=a-(a/b)\\times b$$\n",
    "であるからこれを代入し，$a,b$ に関して整理すると，\n",
    "$$ay'+b(x'-(a/b)\\times y')=gcd(a,b)$$\n",
    "\n",
    "つまり，$x'\\rightarrow y',y'\\rightarrow x'-(a/b)y'$を再帰的に計算することで解が求まる．\n"
   ]
  },
  {
   "attachments": {},
   "cell_type": "markdown",
   "metadata": {},
   "source": [
    "## 素数に関する基本的なアルゴリズム\n"
   ]
  },
  {
   "attachments": {},
   "cell_type": "markdown",
   "metadata": {},
   "source": [
    "### 素数判定\n"
   ]
  },
  {
   "cell_type": "code",
   "execution_count": null,
   "metadata": {},
   "outputs": [],
   "source": [
    "# 素数判定\n",
    "\n",
    "\n",
    "def is_prime(n: int) -> bool:\n",
    "    for i in range(2, int(n**.5) + 1):\n",
    "        if n % i == 0:\n",
    "            return False\n",
    "    return True\n",
    "\n",
    "\n",
    "# 約数の列挙\n",
    "\n",
    "\n",
    "def divisor(n: int) -> list[int]:\n",
    "    res: list[int] = []\n",
    "    for i in range(2, int(n**.5) + 1):\n",
    "        if n % i == 0:\n",
    "            res.append(i)\n",
    "            if i != n // i:\n",
    "                res.append(n // i)\n",
    "    return res\n",
    "\n",
    "\n",
    "# 素因数分解\n",
    "\n",
    "\n",
    "def prime_factor(n: int) -> dict[int, int]:\n",
    "    res: dict[int, int] = {}\n",
    "    for i in range(2, int(n**.5) + 1):\n",
    "        while n % i == 0:\n",
    "            res[i] = res.get(i, 0) + 1\n",
    "            n //= i\n",
    "    if n != 1:\n",
    "        res[n] = 1\n",
    "    return res\n"
   ]
  },
  {
   "cell_type": "code",
   "execution_count": 4,
   "metadata": {},
   "outputs": [],
   "source": [
    "def gcd(a, b):\n",
    "    while b:\n",
    "        a, b = b, a % b\n",
    "    return a\n",
    "\n",
    "\n",
    "def isPrimeMR(n):\n",
    "    d = n - 1\n",
    "    d = d // (d & -d)\n",
    "    L = [2]\n",
    "    for a in L:\n",
    "        t = d\n",
    "        y = pow(a, t, n)\n",
    "        if y == 1:\n",
    "            continue\n",
    "        while y != n - 1:\n",
    "            y = (y * y) % n\n",
    "            if y == 1 or t == n - 1:\n",
    "                return 0\n",
    "            t <<= 1\n",
    "    return 1\n",
    "\n",
    "\n",
    "def findFactorRho(n):\n",
    "    m = 1 << n.bit_length() // 8\n",
    "    for c in range(1, 99):\n",
    "\n",
    "        def f(x):\n",
    "            return (x * x + c) % n\n",
    "\n",
    "        y, r, q, g = 2, 1, 1, 1\n",
    "        while g == 1:\n",
    "            x = y\n",
    "            for i in range(r):\n",
    "                y = f(y)\n",
    "            k = 0\n",
    "            while k < r and g == 1:\n",
    "                ys = y\n",
    "                for i in range(min(m, r - k)):\n",
    "                    y = f(y)\n",
    "                    q = q * abs(x - y) % n\n",
    "                g = gcd(q, n)\n",
    "                k += m\n",
    "            r <<= 1\n",
    "        if g == n:\n",
    "            g = 1\n",
    "            while g == 1:\n",
    "                ys = f(ys)\n",
    "                g = gcd(abs(x - ys), n)\n",
    "        if g < n:\n",
    "            if isPrimeMR(g):\n",
    "                return g\n",
    "            elif isPrimeMR(n // g):\n",
    "                return n // g\n",
    "            return findFactorRho(g)\n",
    "\n",
    "\n",
    "def primeFactor(n):\n",
    "    i = 2\n",
    "    ret = {}\n",
    "    rhoFlg = 0\n",
    "    while i * i <= n:\n",
    "        k = 0\n",
    "        while n % i == 0:\n",
    "            n //= i\n",
    "            k += 1\n",
    "        if k:\n",
    "            ret[i] = k\n",
    "        i += 1 + i % 2\n",
    "        if i == 101 and n >= 2**20:\n",
    "            while n > 1:\n",
    "                if isPrimeMR(n):\n",
    "                    ret[n], n = 1, 1\n",
    "                else:\n",
    "                    rhoFlg = 1\n",
    "                    j = findFactorRho(n)\n",
    "                    k = 0\n",
    "                    while n % j == 0:\n",
    "                        n //= j\n",
    "                        k += 1\n",
    "                    ret[j] = k\n",
    "\n",
    "    if n > 1:\n",
    "        ret[n] = 1\n",
    "    if rhoFlg:\n",
    "        ret = {x: ret[x] for x in sorted(ret)}\n",
    "    return ret\n"
   ]
  },
  {
   "cell_type": "code",
   "execution_count": 6,
   "metadata": {},
   "outputs": [
    {
     "data": {
      "text/plain": [
       "{2: 28, 5: 28}"
      ]
     },
     "execution_count": 6,
     "metadata": {},
     "output_type": "execute_result"
    }
   ],
   "source": [
    "primeFactor(10**28)\n"
   ]
  },
  {
   "attachments": {},
   "cell_type": "markdown",
   "metadata": {},
   "source": [
    "#### Tips: 約数の個数はそう多くない\n",
    "\n",
    "$d(k)$を$k$の約数の個数とすると，\n",
    "\n",
    "-   $10^6$以下の場合: $k=720 720$ で $d(k)=240$\n",
    "-   $10^9$以下の場合: $k=753123400$ で $d(k)=1344$\n",
    "-   $10^{12}$以下の場合: $k=963761198400$ で $d(k)=6720$\n",
    "\n",
    "参考: https://twitter.com/e869120/status/1412541885160189952/photo/2\n"
   ]
  },
  {
   "attachments": {},
   "cell_type": "markdown",
   "metadata": {},
   "source": [
    "### エラトステネスの篩\n"
   ]
  },
  {
   "cell_type": "code",
   "execution_count": null,
   "metadata": {},
   "outputs": [],
   "source": [
    "# 素数の個数\n",
    "\n",
    "MAX_N: int = 20\n",
    "\n",
    "prime: list[int] = [0] * MAX_N\n",
    "is_prime: list[int] = [True] * (MAX_N + 1)\n",
    "\n",
    "\n",
    "def sieve(n: int) -> int:\n",
    "    p: int = 0\n",
    "    is_prime[:2] = [False] * 2\n",
    "    for i in range(2, n + 1):\n",
    "        if is_prime[i]:\n",
    "            prime[(p := p + 1)] = i\n",
    "            for j in range(2 * i, n + 1, i):\n",
    "                is_prime[j] = False\n",
    "    return p\n"
   ]
  },
  {
   "attachments": {},
   "cell_type": "markdown",
   "metadata": {},
   "source": [
    "### 区間篩\n"
   ]
  },
  {
   "attachments": {},
   "cell_type": "markdown",
   "metadata": {},
   "source": [
    "$b$ 未満の素数でない整数の最小の素因数は高々$\\sqrt{b}$であることを利用して，$[2, \\sqrt{b})$と$[a, b)$の 2 つの篩を同時に更新していく．\n"
   ]
  },
  {
   "cell_type": "code",
   "execution_count": null,
   "metadata": {},
   "outputs": [],
   "source": [
    "# 区間内の素数の個数\n",
    "\n",
    "MAX_L: int\n",
    "MAX_SQRT_B: int\n",
    "\n",
    "is_prime: list[bool] = [True] * MAX_L\n",
    "is_prime_small: list[bool] = [True] * MAX_SQRT_B\n",
    "\n",
    "\n",
    "def segment_sieve(a: int, b: int) -> None:\n",
    "    for i in range(2, int(b**.5)):\n",
    "        if is_prime_small[i]:\n",
    "            for j in range(2 * i, int(b**.5), i):\n",
    "                is_prime_small[j] = False\n",
    "            for j in range(max(2, a + i - 1 // i), b, i):\n",
    "                is_prime[j - a] = False\n"
   ]
  },
  {
   "attachments": {},
   "cell_type": "markdown",
   "metadata": {},
   "source": [
    "## 余りの計算\n"
   ]
  },
  {
   "attachments": {},
   "cell_type": "markdown",
   "metadata": {},
   "source": [
    "### 合同式\n"
   ]
  },
  {
   "attachments": {},
   "cell_type": "markdown",
   "metadata": {},
   "source": [
    "### モジュラ逆数\n"
   ]
  },
  {
   "attachments": {},
   "cell_type": "markdown",
   "metadata": {},
   "source": [
    "$\\frac{P}{Q}$の modM は，$P\\times Q^{-1}$であるから，`P * pow(Q, -1, mod) % mod`\n"
   ]
  },
  {
   "attachments": {},
   "cell_type": "markdown",
   "metadata": {},
   "source": [
    "練習問題\n",
    "\n",
    "-   [ABC174 C - Respect](https://atcoder.jp/contests/abc174/tasks/abc174_c)\n"
   ]
  },
  {
   "attachments": {},
   "cell_type": "markdown",
   "metadata": {},
   "source": [
    "## べき乗を高速に計算する\n"
   ]
  },
  {
   "attachments": {},
   "cell_type": "markdown",
   "metadata": {},
   "source": [
    "**繰り返し二乗法**\n",
    "\n",
    "-   $x^{s+t}=x^{s}\\times x^{t}$ と 任意の数が 2 の冪乗和で表現出来ることを利用し，累乗を高速化するテクニック\n",
    "-   例: $x^{22}=x^{16}\\times x^4 \\times x^2$\n",
    "-   計算量は$O(\\log n)$\n"
   ]
  },
  {
   "cell_type": "code",
   "execution_count": null,
   "metadata": {},
   "outputs": [],
   "source": [
    "# Carmichael Numbers\n",
    "\n",
    "\n",
    "def mod_pow(x: int, n: int, mod: int) -> int:\n",
    "    res: int = 1\n",
    "    while n > 0:\n",
    "        if n & 1:\n",
    "            res = res * x % mod\n",
    "        x = x * x % mod\n",
    "        n >>= 1\n",
    "    return res\n"
   ]
  },
  {
   "cell_type": "code",
   "execution_count": null,
   "metadata": {},
   "outputs": [],
   "source": [
    "# 再帰ver\n",
    "\n",
    "\n",
    "def mod_pow(x: int, n: int, mod: int) -> int:\n",
    "    if n == 0:\n",
    "        return 1\n",
    "    return mod_pow(x * x % mod, n // 2, mod) * x**(n & 1) % mod\n"
   ]
  },
  {
   "attachments": {},
   "cell_type": "markdown",
   "metadata": {},
   "source": [
    ":MEMO\n",
    "\n",
    "-   Carmichael Numbers(カーマイケル数)\n"
   ]
  },
  {
   "attachments": {},
   "cell_type": "markdown",
   "metadata": {},
   "source": [
    "## 付録\n"
   ]
  },
  {
   "attachments": {},
   "cell_type": "markdown",
   "metadata": {},
   "source": [
    "### エラトステネスの篩\n"
   ]
  },
  {
   "cell_type": "code",
   "execution_count": 3,
   "metadata": {},
   "outputs": [
    {
     "data": {
      "application/vnd.jupyter.widget-view+json": {
       "model_id": "9992d992f44f4dd1b658dd5a4c3afda2",
       "version_major": 2,
       "version_minor": 0
      },
      "text/plain": [
       "interactive(children=(IntSlider(value=0, description='scene', max=182), Output()), _dom_classes=('widget-inter…"
      ]
     },
     "metadata": {},
     "output_type": "display_data"
    }
   ],
   "source": [
    "import IPython.display\n",
    "import ipywidgets\n",
    "\n",
    "\n",
    "def create_table():\n",
    "    table = ['<table>']\n",
    "    for i in range(1, n + 1):\n",
    "        if i % 10 == 1:\n",
    "            table += ['<tr>']\n",
    "        if i == 1:\n",
    "            table += ['<th> </th>']\n",
    "        elif not is_prime[i]:\n",
    "            table += [f'<th class=\"not-prime\">{i}</th>']\n",
    "        else:\n",
    "            table += [f'<th>{i}</th>']\n",
    "        if i % 10 == 0:\n",
    "            table += ['</tr>']\n",
    "    table += ['</table>']\n",
    "    return table\n",
    "\n",
    "\n",
    "source = []\n",
    "\n",
    "n = 120\n",
    "p = 0\n",
    "is_prime = [True] * (n + 1)\n",
    "is_prime[:2] = [False] * 2\n",
    "\n",
    "source.append(create_table())\n",
    "for i in range(2, n + 1):\n",
    "    if is_prime[i]:\n",
    "        for j in range(2 * i, n + 1, i):\n",
    "            is_prime[j] = False\n",
    "            source.append(create_table())\n",
    "\n",
    "\n",
    "@ipywidgets.interact(scene=ipywidgets.IntSlider(min=0, max=len(source)))\n",
    "def project(scene):\n",
    "    display(\n",
    "        IPython.display.HTML('<style>.not-prime{color:transparent;}</style>' +\n",
    "                             ''.join(source[scene])))\n"
   ]
  }
 ],
 "metadata": {
  "kernelspec": {
   "display_name": "Python 3",
   "language": "python",
   "name": "python3"
  },
  "language_info": {
   "codemirror_mode": {
    "name": "ipython",
    "version": 3
   },
   "file_extension": ".py",
   "mimetype": "text/x-python",
   "name": "python",
   "nbconvert_exporter": "python",
   "pygments_lexer": "ipython3",
   "version": "3.9.13"
  },
  "orig_nbformat": 4
 },
 "nbformat": 4,
 "nbformat_minor": 2
}
