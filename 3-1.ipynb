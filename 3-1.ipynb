{
 "cells": [
  {
   "attachments": {},
   "cell_type": "markdown",
   "metadata": {},
   "source": [
    "# 3-1 値の探索だけじゃない！”二分探索”"
   ]
  },
  {
   "attachments": {},
   "cell_type": "markdown",
   "metadata": {},
   "source": [
    "二分探索は以下のような状況で利用できる．\n",
    "\n",
    "- 実数や整数に対して統一的に定義される条件について，ある値 $x$ が存在して，$x$ 以上では常に条件が成立する / しない，かつ $x$ 未満では常に条件が成立しない / する\n",
    "\n",
    "即ちある条件`C`に対して定義域内での条件が`False, False, ..., False, False, True, True, ..., True, True`となる場合，二分探索は`False`と`True`の境界を求めることであると表現出来る．"
   ]
  },
  {
   "attachments": {},
   "cell_type": "markdown",
   "metadata": {},
   "source": [
    "::MEMO  \n",
    "しばしば二分探索の例として，単調増加の数列`a`において任意の値`x`以上での最小の値の探索が挙げられるが，この場合でも条件`C`を「`x`より大きい」と定めれば，上述の一般化に当てはめる事が出来る．\n",
    "\n",
    "例)  \n",
    "```\n",
    "a = {1, 3, 4, 6, 8, 9}\n",
    "x = 5\n",
    "\n",
    "C(a) -> {False, False, False, True, True, True}\n",
    "```\n"
   ]
  },
  {
   "attachments": {},
   "cell_type": "markdown",
   "metadata": {},
   "source": [
    "## ソート列から値を探す"
   ]
  },
  {
   "cell_type": "code",
   "execution_count": 1,
   "metadata": {},
   "outputs": [],
   "source": [
    "# lower_bound\n",
    "\n",
    "n: int; k: int\n",
    "a: list[int]\n",
    "\n",
    "def solve() -> None:\n",
    "    lo = -1; hi = n\n",
    "    c = lambda x: a[x] >= k\n",
    "    while hi - lo > 1:\n",
    "        mid = (lo + hi) // 2\n",
    "        if c(mid):\n",
    "            hi = mid\n",
    "        else:\n",
    "            lo = mid\n",
    "    print(hi)"
   ]
  },
  {
   "cell_type": "code",
   "execution_count": 2,
   "metadata": {},
   "outputs": [
    {
     "name": "stdout",
     "output_type": "stream",
     "text": [
      "0\n"
     ]
    }
   ],
   "source": [
    "n = 4; k = 1\n",
    "a = [2, 3, 3, 5]\n",
    "solve()"
   ]
  },
  {
   "attachments": {},
   "cell_type": "markdown",
   "metadata": {},
   "source": [
    "::MEMO\n",
    "- 終了条件は`hi-lo=1`であり，最終的に`hi`の値が返されるため，`lo=-1`で初期化する\n",
    "  - `x`が`min(a)`より小さい場合に`hi=0`になり得ないため"
   ]
  },
  {
   "attachments": {},
   "cell_type": "markdown",
   "metadata": {},
   "source": [
    "## 解を仮定し可能か判定"
   ]
  },
  {
   "cell_type": "code",
   "execution_count": 3,
   "metadata": {},
   "outputs": [],
   "source": [
    "# Cable master\n",
    "\n",
    "N: int; K: int\n",
    "L: list[float]\n",
    "\n",
    "def solve() -> None:\n",
    "    lo = 0; hi = max(L)\n",
    "    c = lambda l: sum(rope // l for rope in L) < K\n",
    "    while hi - lo > 1e-5:\n",
    "        mid = (hi + lo) / 2\n",
    "        if c(mid):\n",
    "            hi = mid\n",
    "        else:\n",
    "            lo = mid\n",
    "    return round(lo, 2)"
   ]
  },
  {
   "cell_type": "code",
   "execution_count": 4,
   "metadata": {},
   "outputs": [
    {
     "data": {
      "text/plain": [
       "2.0"
      ]
     },
     "execution_count": 4,
     "metadata": {},
     "output_type": "execute_result"
    }
   ],
   "source": [
    "N = 4; K = 11\n",
    "L = [8.02, 7.43, 4.57, 5.39]\n",
    "solve()"
   ]
  },
  {
   "attachments": {},
   "cell_type": "markdown",
   "metadata": {},
   "source": [
    "## 最小値の最大化"
   ]
  },
  {
   "cell_type": "code",
   "execution_count": 5,
   "metadata": {},
   "outputs": [],
   "source": [
    "# Aggressive cows\n",
    "\n",
    "N: int; M: int\n",
    "x: list[int]\n",
    "\n",
    "def c(d):\n",
    "    pre_i = 0\n",
    "    remain = M - 1\n",
    "    for i in range(1, N):\n",
    "        if x[i] - x[pre_i] >= d:\n",
    "            remain -= 1\n",
    "            pre_i = i\n",
    "    return remain > 0\n",
    "\n",
    "def solve() -> None:\n",
    "    x.sort()\n",
    "\n",
    "    lo = 0; hi = max(x)\n",
    "    while hi - lo > 1:\n",
    "        mid = (hi + lo) // 2\n",
    "        if c(mid):\n",
    "            hi = mid\n",
    "        else:\n",
    "            lo = mid\n",
    "    return lo"
   ]
  },
  {
   "cell_type": "code",
   "execution_count": 6,
   "metadata": {},
   "outputs": [
    {
     "data": {
      "text/plain": [
       "3"
      ]
     },
     "execution_count": 6,
     "metadata": {},
     "output_type": "execute_result"
    }
   ],
   "source": [
    "N = 5; M = 3\n",
    "x = [1, 2, 8, 4, 9]\n",
    "\n",
    "solve()"
   ]
  },
  {
   "attachments": {},
   "cell_type": "markdown",
   "metadata": {},
   "source": [
    "## 平均最大化"
   ]
  },
  {
   "attachments": {},
   "cell_type": "markdown",
   "metadata": {},
   "source": [
    "条件`C`を「単位当たり重さの価値が`x`以上となるように選ぶことが出来る」と定めると，条件を満たす最大の`x`を求める問題となる．\n",
    "\n",
    "条件`C`の判定は\n",
    "$$\n",
    "\\begin{aligned}\n",
    "    \\sum_{i\\in S}v_{i} / \\sum_{i\\in S}w_{i} &\\geqq x \\\\\n",
    "    \\sum_{i\\in S}v_{i} &\\geqq x \\times \\sum_{i\\in S}w_{i} \\\\\n",
    "    \\sum_{i\\in S}v_{i} - x \\times \\sum_{i\\in S}w_{i} &\\geqq 0 \\\\\n",
    "    \\sum_{i\\in S}(v_{i} - x \\times w_{i}) &\\geqq 0\n",
    "\\end{aligned}\n",
    "$$\n",
    "により，各`v, w`について`v - x * w`を計算し，大きいものから`k`個選んだときの和が`0`を超えるかどうか判定すればよい．"
   ]
  },
  {
   "attachments": {},
   "cell_type": "markdown",
   "metadata": {},
   "source": [
    "::MEMO  \n",
    "重さ当たりの価値が最大となる商品を選択する貪欲的な解法は不可．\n",
    "\n",
    "\n",
    "- $(w_{1}, v_{1}), (w_{2}, v_{2})$について，$\\frac{v_{1}}{w_{1}} + v_{2}/w_{2} \\not= (v_{1}+v_{2}) / (w_{1}+w_{2})$のため"
   ]
  },
  {
   "cell_type": "code",
   "execution_count": 7,
   "metadata": {},
   "outputs": [],
   "source": [
    "# 平均最大化\n",
    "\n",
    "n: int; k: int\n",
    "w: list[int]; v: list[int]\n",
    "\n",
    "def c(x):\n",
    "    return sum(sorted(map(lambda w, v: v - x * w, w, v), reverse=True)[:k]) < 0\n",
    "\n",
    "def solve() -> None:\n",
    "    lo = 0; hi = max(v)\n",
    "    while hi - lo > 1e-5:\n",
    "        mid = (hi + lo) / 2\n",
    "        if c(mid):\n",
    "            hi = mid\n",
    "        else:\n",
    "            lo = mid\n",
    "    return round(hi, 2)"
   ]
  },
  {
   "cell_type": "code",
   "execution_count": 8,
   "metadata": {},
   "outputs": [
    {
     "data": {
      "text/plain": [
       "0.75"
      ]
     },
     "execution_count": 8,
     "metadata": {},
     "output_type": "execute_result"
    }
   ],
   "source": [
    "n = 3; k = 2\n",
    "w = [2, 5, 2]; v = [2, 3, 1]\n",
    "solve()\n",
    "\n",
    "x = 5"
   ]
  },
  {
   "attachments": {},
   "cell_type": "markdown",
   "metadata": {},
   "source": [
    "## 練習問題"
   ]
  },
  {
   "attachments": {},
   "cell_type": "markdown",
   "metadata": {},
   "source": [
    "- [ABC192 D - Base n](https://atcoder.jp/contests/abc192/tasks/abc192_d)"
   ]
  },
  {
   "attachments": {},
   "cell_type": "markdown",
   "metadata": {},
   "source": [
    "# 発展的話題 - 三分探索"
   ]
  },
  {
   "attachments": {},
   "cell_type": "markdown",
   "metadata": {},
   "source": [
    "三分探索とは[擬凸関数](https://ja.wikipedia.org/wiki/%E6%93%AC%E5%87%B8%E6%80%A7)を数値的に最大化・最小化する手法．\n",
    "\n",
    "「たかだか一つしか極値のない関数$f$における極値を探索するアルゴリズム」(引用: [三分探索を救いたい - @ganyariya](https://qiita.com/ganyariya/items/1553ff2bf8d6d7789127))"
   ]
  },
  {
   "attachments": {},
   "cell_type": "markdown",
   "metadata": {},
   "source": [
    "擬凸関数を`f(x)`探索範囲を`[l, r]`とし，範囲の中に極値が一つ含まれているとする．\n",
    "\n",
    "手順は以下の通り\n",
    "1. 探索範囲を3分割する  \n",
    "   $1:2$，$2:1$に内分する点を取る．($c_{1}=(l \\times 2 + r) / 3$，$c_{2}=(l + h \\times 2) / 3$)\n",
    "2. $f(c_{1})$ < $f(c_{2})$の場合$r=c_{2}$，$f(c_{1})$ > $f(c_{2})$の場合，$l=c_{1}$と探索範囲を更新する\n",
    "\n",
    "上手順を$r-l$が任意の精度に小さくなるまで繰り返す．"
   ]
  },
  {
   "attachments": {},
   "cell_type": "markdown",
   "metadata": {},
   "source": [
    "## 練習問題\n",
    "- [ARC054 B - ムーアの法則](https://atcoder.jp/contests/arc054/tasks/arc054_b)\n",
    "- [ABC279 D - Freefall](https://atcoder.jp/contests/abc279/tasks/abc279_d)"
   ]
  }
 ],
 "metadata": {
  "kernelspec": {
   "display_name": "Python 3",
   "language": "python",
   "name": "python3"
  },
  "language_info": {
   "codemirror_mode": {
    "name": "ipython",
    "version": 3
   },
   "file_extension": ".py",
   "mimetype": "text/x-python",
   "name": "python",
   "nbconvert_exporter": "python",
   "pygments_lexer": "ipython3",
   "version": "3.10.8 (tags/v3.10.8:aaaf517, Oct 11 2022, 16:50:30) [MSC v.1933 64 bit (AMD64)]"
  },
  "orig_nbformat": 4,
  "vscode": {
   "interpreter": {
    "hash": "120702f7e6053f051863eda686c41cf05b980199455e680d50b566abedd1c5d9"
   }
  }
 },
 "nbformat": 4,
 "nbformat_minor": 2
}
