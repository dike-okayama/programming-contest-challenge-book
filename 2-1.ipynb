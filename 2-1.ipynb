{
 "cells": [
  {
   "cell_type": "markdown",
   "metadata": {},
   "source": [
    "# 2-1 全ての基本 \"全探索\""
   ]
  },
  {
   "cell_type": "markdown",
   "metadata": {},
   "source": [
    "## 再帰関数"
   ]
  },
  {
   "cell_type": "code",
   "execution_count": null,
   "metadata": {},
   "outputs": [],
   "source": [
    "# 再帰関数\n",
    "def fact(n: int) -> int:\n",
    "    if n == 0:\n",
    "        return 1\n",
    "    return n * fact(n - 1)"
   ]
  },
  {
   "cell_type": "code",
   "execution_count": 1,
   "metadata": {},
   "outputs": [],
   "source": [
    "# フィボナッチ数列\n",
    "def fib(n: int) -> int:\n",
    "    if n <= 1:\n",
    "        return n\n",
    "    return fib(n - 1) + fib(n - 2)"
   ]
  },
  {
   "cell_type": "code",
   "execution_count": null,
   "metadata": {},
   "outputs": [],
   "source": [
    "# フィボナッチ数列(メモ化)\n",
    "N: int\n",
    "memo: list[int] = [0] * N\n",
    "def fib(n: int):\n",
    "    if n <= 1:\n",
    "        return n\n",
    "    if memo[n] != 0:\n",
    "        return memo[n]\n",
    "    memo[n] = fib(n - 1) + fib(n - 2)\n",
    "    return memo[n]"
   ]
  },
  {
   "cell_type": "markdown",
   "metadata": {},
   "source": [
    "## スタック"
   ]
  },
  {
   "cell_type": "markdown",
   "metadata": {},
   "source": [
    "- LIFO"
   ]
  },
  {
   "cell_type": "code",
   "execution_count": 3,
   "metadata": {},
   "outputs": [],
   "source": [
    "from queue import LifoQueue"
   ]
  },
  {
   "cell_type": "code",
   "execution_count": null,
   "metadata": {},
   "outputs": [],
   "source": [
    "from builtins import list"
   ]
  },
  {
   "cell_type": "markdown",
   "metadata": {},
   "source": [
    "## キュー"
   ]
  },
  {
   "cell_type": "markdown",
   "metadata": {},
   "source": [
    "- FIFO"
   ]
  },
  {
   "cell_type": "code",
   "execution_count": 10,
   "metadata": {},
   "outputs": [],
   "source": [
    "from queue import Queue"
   ]
  },
  {
   "cell_type": "code",
   "execution_count": null,
   "metadata": {},
   "outputs": [],
   "source": [
    "from collections import deque"
   ]
  },
  {
   "cell_type": "markdown",
   "metadata": {},
   "source": [
    "## 深さ優先探索"
   ]
  },
  {
   "cell_type": "markdown",
   "metadata": {},
   "source": [
    "- 可能な限り遷移を続ける <=> 遷移先が無くなったら一つ前の状態に戻る"
   ]
  },
  {
   "cell_type": "code",
   "execution_count": null,
   "metadata": {},
   "outputs": [],
   "source": [
    "# 部分和問題\n",
    "\n",
    "a: list[int]\n",
    "n: int; k: int\n",
    "\n",
    "def dfs(i: int, sum_: int) -> bool:\n",
    "    if i == n:\n",
    "        return sum_ == k\n",
    "    if dfs(i + 1, sum_):\n",
    "        return True\n",
    "    if dfs(i + 1, sum_ + a[i]):\n",
    "        return True\n",
    "    return False"
   ]
  },
  {
   "cell_type": "code",
   "execution_count": null,
   "metadata": {},
   "outputs": [],
   "source": [
    "# Lake Counting\n",
    "\n",
    "N: int; M: int\n",
    "field: list[list[str]]\n",
    "\n",
    "def dfs(x: int, y: int) -> None:\n",
    "    field[x][y] = '.'\n",
    "    dx: int; dy: int\n",
    "    for dx in range(-1, 2):\n",
    "        for dy in range(-1, 2):\n",
    "            nx: int = x + dx; ny: int = y + dy\n",
    "            if 0 <= nx < N and 0 <= ny <= M and field[nx][ny] == 'W':\n",
    "                dfs(nx, ny)\n",
    "    return\n",
    "\n",
    "def solve() -> None:\n",
    "    res: int = 0\n",
    "    i: int; j: int\n",
    "    for i in range(N):\n",
    "        for j in range(M):\n",
    "            if field[i][j] == 'W':\n",
    "                dfs(i, j)\n",
    "                res += 1\n",
    "    print(res)"
   ]
  },
  {
   "cell_type": "markdown",
   "metadata": {},
   "source": [
    "## 幅優先探索"
   ]
  },
  {
   "cell_type": "markdown",
   "metadata": {},
   "source": [
    "- はじめの状態に近い方から探索\n",
    "- 計算量はO(状態数×遷移の仕方)"
   ]
  },
  {
   "cell_type": "code",
   "execution_count": 1,
   "metadata": {},
   "outputs": [],
   "source": [
    "# 迷路の最短路\n",
    "from collections import deque\n",
    "\n",
    "INF: float = 2 ** 64\n",
    "MAX_N: int; MAX_M: int\n",
    "\n",
    "maze: list[list[str]]\n",
    "N: int; M: int\n",
    "sx: int; sy: int\n",
    "gx: int; gy: int\n",
    "\n",
    "d: list[list[int]]\n",
    "dx: list[int] = [1, 0, -1, 0]; dy: list[int] = [0, 1, 0, -1]\n",
    "\n",
    "def bfs() -> int:\n",
    "    que = deque()\n",
    "    for i in range(N):\n",
    "        for j in range(M):\n",
    "            d[i][j] = INF\n",
    "    que.append((sx, sy))\n",
    "    d[sx][sy] = 0\n",
    "\n",
    "    while que:\n",
    "        p = que.popleft()\n",
    "        if p == (gx, gy):\n",
    "            break\n",
    "        ..."
   ]
  },
  {
   "cell_type": "markdown",
   "metadata": {},
   "source": [
    "memo **幅優先探索と深さ優先探索の違い**\n",
    "- BFS\n",
    "  - 最短路を求める場合はこっち\n",
    "  - 状態数に比例するメモリを必要とする\n",
    "- DFS\n",
    "  - 記述は簡潔になる場合が多い\n",
    "  - 状態数に対して再帰は深くならないので，メモリ使用量は少ない"
   ]
  },
  {
   "cell_type": "markdown",
   "metadata": {},
   "source": [
    "## 特殊な状態の列挙"
   ]
  },
  {
   "cell_type": "code",
   "execution_count": 38,
   "metadata": {},
   "outputs": [
    {
     "data": {
      "text/plain": [
       "[0, 1, 3, 2, 4]"
      ]
     },
     "execution_count": 38,
     "metadata": {},
     "output_type": "execute_result"
    }
   ],
   "source": [
    "MAX_N = 5\n",
    "\n",
    "\n",
    "used: list[int] = [0] * MAX_N\n",
    "perm: list[int] = list(range(MAX_N))\n",
    "\n",
    "def permutations1(pos: int, n: int) -> None:\n",
    "    if pos == n:\n",
    "        return\n",
    "    for i in range(n):\n",
    "        if not used[i]:\n",
    "            perm[pos] = i\n",
    "            used[i] = True\n",
    "            permutations1(pos + 1, n)\n",
    "            used[i] = False\n",
    "    return\n",
    "\n",
    "permutations1(2, 4)\n"
   ]
  },
  {
   "cell_type": "markdown",
   "metadata": {},
   "source": [
    "## 枝刈り"
   ]
  }
 ],
 "metadata": {
  "kernelspec": {
   "display_name": "Python 3.10.8 64-bit",
   "language": "python",
   "name": "python3"
  },
  "language_info": {
   "codemirror_mode": {
    "name": "ipython",
    "version": 3
   },
   "file_extension": ".py",
   "mimetype": "text/x-python",
   "name": "python",
   "nbconvert_exporter": "python",
   "pygments_lexer": "ipython3",
   "version": "3.10.8"
  },
  "orig_nbformat": 4,
  "vscode": {
   "interpreter": {
    "hash": "120702f7e6053f051863eda686c41cf05b980199455e680d50b566abedd1c5d9"
   }
  }
 },
 "nbformat": 4,
 "nbformat_minor": 2
}
