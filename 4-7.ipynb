{
 "cells": [
  {
   "attachments": {},
   "cell_type": "markdown",
   "metadata": {},
   "source": [
    "# 4-7 文字列を華麗に扱う"
   ]
  },
  {
   "attachments": {},
   "cell_type": "markdown",
   "metadata": {},
   "source": [
    "## 文字列に対する動的計画法"
   ]
  },
  {
   "attachments": {},
   "cell_type": "markdown",
   "metadata": {},
   "source": [
    "### 単一文字列の場合"
   ]
  },
  {
   "attachments": {},
   "cell_type": "markdown",
   "metadata": {},
   "source": [
    "### 複数文字列の場合"
   ]
  },
  {
   "attachments": {},
   "cell_type": "markdown",
   "metadata": {},
   "source": [
    "## 文字列検索"
   ]
  },
  {
   "attachments": {},
   "cell_type": "markdown",
   "metadata": {},
   "source": [
    "長さ$n$の文字列$S$に含まれる，長さ$m$の文字列$T$の場所を探したり，含まれる回数を探したりすることを文字列検索という\n",
    "\n",
    "ナイーブな解法では，$S$の開始位置を全て試し，一致しているかを調べる$O(nm)$の解法が存在するが，ローリングハッシュではこれを$O(n)$で行う．"
   ]
  },
  {
   "attachments": {},
   "cell_type": "markdown",
   "metadata": {},
   "source": [
    "#### ローリングハッシュ"
   ]
  },
  {
   "attachments": {},
   "cell_type": "markdown",
   "metadata": {},
   "source": [
    "- ナイーブ解では一回の一致判定に$O(m)$であるが，これをハッシュ値を用いることにより$O(1)$で行うことで目指す\n",
    "- そのままではハッシュ値の計算に$O(m)$かかるものの，直前の比較に用いたハッシュ値を利用することで計算を高速化$O(1)$する"
   ]
  },
  {
   "attachments": {},
   "cell_type": "markdown",
   "metadata": {},
   "source": [
    "互いに素な適当な定数$b,h(1<b<h)$を用意し，文字列$C=c_1c_2...c_m$のハッシュ値を，$$H(C)=(c_1\\times b^{m-1}+c{2}\\times b^{m-2}+...+c_{m}\\times b^{0}) \\space mod \\space h$$とする．すると，文字列$S=s_1s_2...s_n$の$k+1$文字目からの$m$文字の部分文字列$s_{k+1}...s_{k+m}$に対するハッシュ値は，$k$文字目からの部分文字列$s_{k}...s_{k+m-1}$のハッシュ値により，以下のようにすぐ計算できる．$$H(s_{k+1}...s_{k+m})=(H(s_{k}...s_{k+m-1})\\times b-s_{k}\\times b^{m}+s_{k+m})\\space mod\\space h$$"
   ]
  },
  {
   "attachments": {},
   "cell_type": "markdown",
   "metadata": {},
   "source": [
    "**補足**  \n",
    "modは省略\n",
    "$$\n",
    "\\begin{aligned}\n",
    "    H(s_{k+1}...s_{k+m})&=s_{k+1}\\times b^{m-1}+s_{k+2}\\times b^{m-2}+...+s_{k+m-1}\\times b^{1}+s_{k+m}\\times b^{0} \\\\\n",
    "                        &=s_{k}\\times b^{m}+s_{k+1}\\times b^{m-1}+s_{k+2}\\times b^{m-2}+...+s_{k+m-1}\\times b^{1}+s_{k+m}\\times b^{0}-s_{k}\\times b^{m} \\\\\n",
    "                        &=(s_{k}\\times b^{m-1}+s_{k+1}\\times b^{m-2}+s_{k+2}\\times b^{m-3}+...+s_{k+m-1}\\times b^{0}) \\times b+s_{k+m}\\times b^{0}-s_{k}\\times b^{m} \\\\\n",
    "                        &=H(s_{k}...s_{k+m-1})\\times b+s_{k+m}-s_{k}\\times b^{m}\n",
    "\\end{aligned}\n",
    "$$"
   ]
  },
  {
   "attachments": {},
   "cell_type": "markdown",
   "metadata": {},
   "source": [
    "ここで，$h=2^{64}$と定めるとmodを取る操作を省く事が出来る．"
   ]
  },
  {
   "cell_type": "code",
   "execution_count": 1,
   "metadata": {},
   "outputs": [],
   "source": [
    "# ローリングハッシュ\n",
    "\n",
    "B = 1000000007\n",
    "H = 998244353\n",
    "\n",
    "def rolling_hash(a: str, b: str) -> bool:\n",
    "    '''return b in a'''\n",
    "    n = len(a); m = len(b)\n",
    "    powers = [1]\n",
    "    for _ in range(m):\n",
    "        powers.append(powers[-1] * B % H)\n",
    "    a_hash = sum(map(lambda i: ord(a[i]) * powers[m - i - 1], range(m))) % H\n",
    "    b_hash = sum(map(lambda i: ord(b[i]) * powers[m - i - 1], range(m))) % H\n",
    "    if a_hash == b_hash:\n",
    "        return True\n",
    "    for i in range(n - m):\n",
    "        a_hash = (a_hash * B + ord(a[i + m]) - ord(a[i]) * powers[m]) % H\n",
    "        if a_hash == b_hash:\n",
    "            return True\n",
    "    return False\n"
   ]
  },
  {
   "cell_type": "code",
   "execution_count": 2,
   "metadata": {},
   "outputs": [
    {
     "data": {
      "text/plain": [
       "True"
      ]
     },
     "execution_count": 2,
     "metadata": {},
     "output_type": "execute_result"
    }
   ],
   "source": [
    "import random\n",
    "\n",
    "n = 1_000_000; m = 500_000\n",
    "s = ''.join(chr(random.randint(ord('a'), ord('z'))) for _ in range(n))\n",
    "t = ''.join(chr(random.randint(ord('a'), ord('z'))) for _ in range(m))\n",
    "\n",
    "s = s[:n // 3] + t + s[n // 3 + m:]\n",
    "\n",
    "t in s"
   ]
  },
  {
   "cell_type": "code",
   "execution_count": 3,
   "metadata": {},
   "outputs": [
    {
     "name": "stdout",
     "output_type": "stream",
     "text": [
      "1.1 ms ± 95.1 µs per loop (mean ± std. dev. of 7 runs, 1,000 loops each)\n"
     ]
    }
   ],
   "source": [
    "%%timeit\n",
    "t in s"
   ]
  },
  {
   "cell_type": "code",
   "execution_count": 4,
   "metadata": {},
   "outputs": [
    {
     "name": "stdout",
     "output_type": "stream",
     "text": [
      "372 ms ± 8.02 ms per loop (mean ± std. dev. of 7 runs, 1 loop each)\n"
     ]
    }
   ],
   "source": [
    "%%timeit\n",
    "rolling_hash(s, t)"
   ]
  }
 ],
 "metadata": {
  "kernelspec": {
   "display_name": "Python 3",
   "language": "python",
   "name": "python3"
  },
  "language_info": {
   "codemirror_mode": {
    "name": "ipython",
    "version": 3
   },
   "file_extension": ".py",
   "mimetype": "text/x-python",
   "name": "python",
   "nbconvert_exporter": "python",
   "pygments_lexer": "ipython3",
   "version": "3.10.8"
  },
  "orig_nbformat": 4,
  "vscode": {
   "interpreter": {
    "hash": "120702f7e6053f051863eda686c41cf05b980199455e680d50b566abedd1c5d9"
   }
  }
 },
 "nbformat": 4,
 "nbformat_minor": 2
}
