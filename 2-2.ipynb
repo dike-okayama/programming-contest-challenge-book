{
 "cells": [
  {
   "attachments": {},
   "cell_type": "markdown",
   "metadata": {},
   "source": [
    "# 2-2 猪突猛進！\"貪欲法\""
   ]
  },
  {
   "attachments": {},
   "cell_type": "markdown",
   "metadata": {},
   "source": [
    "## MEMO\n",
    "- 動的計画法との違い\n",
    "  - 動的計画法: 考えられる遷移を全て考える\n",
    "  - 貪欲法: 1ステップ先のことのみを考えて最善な選択を行う"
   ]
  },
  {
   "attachments": {},
   "cell_type": "markdown",
   "metadata": {},
   "source": [
    "## 硬貨の問題"
   ]
  },
  {
   "cell_type": "code",
   "execution_count": null,
   "metadata": {},
   "outputs": [],
   "source": [
    "# 硬貨の問題\n",
    "V: list[int] = [1, 5, 10, 50, 100, 500]\n",
    "c: list[int]\n",
    "a: int\n",
    "\n",
    "def solve() -> None:\n",
    "    ans = 0\n",
    "    for i in range(6)[::-1]:\n",
    "        t = min(a // V[i], c[i])\n",
    "        a -= t * V[i]\n",
    "        ans += t\n",
    "    print(ans)"
   ]
  },
  {
   "attachments": {},
   "cell_type": "markdown",
   "metadata": {},
   "source": [
    "### 貪欲法が最適解を導くとは限らないこと"
   ]
  },
  {
   "attachments": {},
   "cell_type": "markdown",
   "metadata": {},
   "source": [
    "「1ステップ先の時点では最善ではないが，将来的には最適になる選択」を切り捨てる可能性があり，常に最適解を導くとは限らない．\n",
    "\n",
    "(例) コインの単位が1円，4円，5円の場合，8円を支払うのに最小のコインの枚数"
   ]
  },
  {
   "attachments": {},
   "cell_type": "markdown",
   "metadata": {},
   "source": [
    "## 区間の問題"
   ]
  },
  {
   "attachments": {},
   "cell_type": "markdown",
   "metadata": {},
   "source": [
    "- 終了順でソートするは定石（けんちょん本より）"
   ]
  },
  {
   "cell_type": "code",
   "execution_count": 3,
   "metadata": {},
   "outputs": [],
   "source": [
    "# 区間スケジューリング問題\n",
    "n: int = 5\n",
    "s: list[int] = [1, 2, 4, 6, 8]\n",
    "t: list[int] = [3, 5, 7, 9, 10]\n",
    "\n",
    "def solve() -> None:\n",
    "    itv = list(zip(s, t))\n",
    "    itv.sort(key=lambda x: x[1])\n",
    "    ans: int = 0\n",
    "    t: int = 0\n",
    "    for i in range(n):\n",
    "        if t < int[i][1]:\n",
    "            ans += 1\n",
    "            t = itv[i][0]\n",
    "    print(ans)"
   ]
  },
  {
   "attachments": {},
   "cell_type": "markdown",
   "metadata": {},
   "source": [
    "## 辞書順最小の問題"
   ]
  },
  {
   "attachments": {},
   "cell_type": "markdown",
   "metadata": {},
   "source": [
    "- 辞書順のため，先頭が辞書順最小であれば良い（後ろはどうでもいい）\n",
    "- 前と後ろを辞書順比較して小さい方の先頭を利用"
   ]
  },
  {
   "cell_type": "code",
   "execution_count": 4,
   "metadata": {},
   "outputs": [],
   "source": [
    "# Best Cow Line\n",
    "n: int\n",
    "s: str\n",
    "\n",
    "def solve() -> None:\n",
    "    a: int = 0\n",
    "    b: int = n - 1\n",
    "    while a <= b:\n",
    "        left: bool = False\n",
    "        for i in range(b - a + 1):\n",
    "            if s[a + i] < s[b - i]:\n",
    "                left = True\n",
    "                break\n",
    "            elif s[a + i] > s[b - i]:\n",
    "                left = False\n",
    "                break\n",
    "        if left:\n",
    "            a += 1\n",
    "        else:\n",
    "            b -= 1\n",
    "            print(s[b], end='')\n",
    "    print()"
   ]
  },
  {
   "cell_type": "code",
   "execution_count": null,
   "metadata": {},
   "outputs": [],
   "source": [
    "def solve() -> None:\n",
    "    a: int = 0\n",
    "    b: int = n - 1\n",
    "    while a <= b:\n",
    "        if s[a:] < s[:b:-1]:\n",
    "            print(s[b], end='')\n",
    "            a += 1\n",
    "        else:\n",
    "            print(s[a], end='')\n",
    "            b -= 1\n",
    "    print()"
   ]
  },
  {
   "attachments": {},
   "cell_type": "markdown",
   "metadata": {},
   "source": [
    "## その他の問題"
   ]
  },
  {
   "attachments": {},
   "cell_type": "markdown",
   "metadata": {},
   "source": [
    "### Saruman's Arymy\n",
    "\n",
    "- 左から順にカバーできていない点を含むような，最も右端の点にマーキングする"
   ]
  },
  {
   "cell_type": "code",
   "execution_count": null,
   "metadata": {},
   "outputs": [],
   "source": [
    "# Saruman's Army\n",
    "\n",
    "n: int; r: int\n",
    "x: list[int]\n",
    "\n",
    "def solve() -> None:\n",
    "    x.sort()\n",
    "    i: int = 0; ans: int = 0\n",
    "    while i < n:\n",
    "        i += 1\n",
    "        ..."
   ]
  },
  {
   "attachments": {},
   "cell_type": "markdown",
   "metadata": {},
   "source": [
    "## Fence Repair\n",
    "\n",
    "- 切り出し方は二分木に対応\n",
    "  - 親は二人の子の和\n",
    "- コストは葉×深さの総和\n",
    "- コスト最小の子を結ぶように木を構成すれば良い"
   ]
  },
  {
   "cell_type": "code",
   "execution_count": null,
   "metadata": {},
   "outputs": [],
   "source": [
    "# Fence Repair\n",
    "\n",
    "import heapq\n",
    "\n",
    "N: int; L: int\n",
    "\n",
    "def solve() -> None:\n",
    "    ans: int = 0\n",
    "    que: list = heapq()\n",
    "    \n"
   ]
  }
 ],
 "metadata": {
  "kernelspec": {
   "display_name": "Python 3",
   "language": "python",
   "name": "python3"
  },
  "language_info": {
   "codemirror_mode": {
    "name": "ipython",
    "version": 3
   },
   "file_extension": ".py",
   "mimetype": "text/x-python",
   "name": "python",
   "nbconvert_exporter": "python",
   "pygments_lexer": "ipython3",
   "version": "3.10.10"
  },
  "orig_nbformat": 4,
  "vscode": {
   "interpreter": {
    "hash": "aee8b7b246df8f9039afb4144a1f6fd8d2ca17a180786b69acc140d282b71a49"
   }
  }
 },
 "nbformat": 4,
 "nbformat_minor": 2
}
