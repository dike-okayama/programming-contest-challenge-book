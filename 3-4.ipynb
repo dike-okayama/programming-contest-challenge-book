{
 "cells": [
  {
   "attachments": {},
   "cell_type": "markdown",
   "metadata": {},
   "source": [
    "# 動的計画法を極める"
   ]
  },
  {
   "attachments": {},
   "cell_type": "markdown",
   "metadata": {},
   "source": [
    "## ビットDP"
   ]
  },
  {
   "attachments": {},
   "cell_type": "markdown",
   "metadata": {},
   "source": [
    "参考資料：https://www.slideshare.net/hcpc_hokudai/advanced-dp-2016"
   ]
  },
  {
   "attachments": {},
   "cell_type": "markdown",
   "metadata": {},
   "source": [
    "### 巡回セールスマン問題"
   ]
  },
  {
   "attachments": {},
   "cell_type": "markdown",
   "metadata": {},
   "source": [
    "**POINT**\n",
    "\n",
    "- 閉路であればどこからスタートしてもよいので，始点と終点を0に固定して考える"
   ]
  },
  {
   "attachments": {},
   "cell_type": "markdown",
   "metadata": {},
   "source": [
    "$$\n",
    "\\begin{aligned}\n",
    "    dp[S][v] &:= 現在vにいる状態から，残りの頂点集合V-Sの全ての頂点を巡って頂点0に帰るようなパスの重みの最小値 \\\\\n",
    "    dp[V][0] &= 0 \\\\\n",
    "    dp[S][v] &= \\min\\{dp[S\\cup \\{u\\}]+d(v,u)\\space|\\space u\\notin S\\} \\\\\n",
    "\\end{aligned}\n",
    "$$"
   ]
  },
  {
   "cell_type": "code",
   "execution_count": 20,
   "metadata": {},
   "outputs": [],
   "source": [
    "# 巡回セールスマン問題\n",
    "\n",
    "import functools\n",
    "\n",
    "INF: int = 2 ** 64\n",
    "n: int\n",
    "d: list[list[int]]\n",
    "\n",
    "@functools.lru_cache(maxsize=None)\n",
    "def dp(s, v) -> int:\n",
    "    if s == (1 << n) - 1 and v == 0:\n",
    "        return 0\n",
    "    res: int = INF\n",
    "    for u in range(n):\n",
    "        if s >> u & 1 == 0:\n",
    "            res = min(res, dp(s | 1 << u, u) + d[v][u])\n",
    "    return res\n",
    "\n",
    "def solve() -> None:\n",
    "    print(dp(0, 0))"
   ]
  },
  {
   "cell_type": "code",
   "execution_count": 21,
   "metadata": {},
   "outputs": [
    {
     "name": "stdout",
     "output_type": "stream",
     "text": [
      "23\n"
     ]
    }
   ],
   "source": [
    "n = 5\n",
    "d = [\n",
    "    [INF, 3, INF, 4, INF],\n",
    "    [INF, INF, 5, INF, INF],\n",
    "    [4, INF, INF, 5, INF],\n",
    "    [INF, INF, INF, INF, 4],\n",
    "    [7, 6, INF, INF, INF],\n",
    "]\n",
    "solve()"
   ]
  },
  {
   "attachments": {},
   "cell_type": "markdown",
   "metadata": {},
   "source": [
    "### Traveling by Stagecoach"
   ]
  },
  {
   "attachments": {},
   "cell_type": "markdown",
   "metadata": {},
   "source": [
    "**POINT**\n",
    "\n",
    "- 「状態」を頂点，「状態遷移」を辺とするグラフを考える\n",
    "- 状態：都市$v$にいて，残っている乗車券の集合が$S$である\n",
    "- 遷移：乗車券$i\\in S$を用いて，一本の道路で結ばれた都市$u$に移動する\n",
    "  - この時のコストは，$u$-$v$の距離 / $t_{i}$"
   ]
  },
  {
   "cell_type": "code",
   "execution_count": null,
   "metadata": {},
   "outputs": [],
   "source": [
    "# Traveling by Stagecoach\n",
    "\n",
    "..."
   ]
  },
  {
   "attachments": {},
   "cell_type": "markdown",
   "metadata": {},
   "source": [
    "### ドミノ敷き詰め"
   ]
  },
  {
   "attachments": {},
   "cell_type": "markdown",
   "metadata": {},
   "source": [
    "**POINT**  \n",
    "\n",
    "- 境界が同じならその後の詰め方は同じ\n",
    "  - 境界をビット列で管理すればよい\n",
    "- i, jを考える時に，自分より左のものは既に埋まっていると考える\n",
    "\n",
    "$$\n",
    "\\begin{aligned}\n",
    "    dp[i][j][S] &:= i行j列まで埋めて，境界がSとなるパターン数 \\\\\n",
    "    dp[i][j+1][S|(1<<(j+1))] &+= dp[i][j][S] (縦置き) \\\\\n",
    "    dp[i][j+1][S|(1<<j)] &+= dp[i][j][S] (横置き) \\\\\n",
    "    dp[i][j+1][S\\&~(1<<j)] &+= dp[i][j][S] (i,jが既に埋まっている)\n",
    "\\end{aligned} \n",
    "\n",
    "$$"
   ]
  },
  {
   "cell_type": "code",
   "execution_count": 22,
   "metadata": {},
   "outputs": [
    {
     "data": {
      "text/plain": [
       "Ellipsis"
      ]
     },
     "execution_count": 22,
     "metadata": {},
     "output_type": "execute_result"
    }
   ],
   "source": [
    "# ドミノ敷き詰め\n",
    "\n",
    "..."
   ]
  },
  {
   "attachments": {},
   "cell_type": "markdown",
   "metadata": {},
   "source": [
    "### 練習問題"
   ]
  },
  {
   "attachments": {},
   "cell_type": "markdown",
   "metadata": {},
   "source": [
    "- [EDPC O - Matching](https://atcoder.jp/contests/dp/tasks/dp_o)"
   ]
  },
  {
   "attachments": {},
   "cell_type": "markdown",
   "metadata": {},
   "source": [
    "## 行列累乗"
   ]
  },
  {
   "attachments": {},
   "cell_type": "markdown",
   "metadata": {},
   "source": [
    "### フィボナッチ数列"
   ]
  },
  {
   "attachments": {},
   "cell_type": "markdown",
   "metadata": {},
   "source": [
    "$$\n",
    "\\left(\n",
    "\\begin{matrix}\n",
    "F_{n+2} \\\\\n",
    "F_{n+1}\n",
    "\\end{matrix}\n",
    "\\right)=\n",
    "\\left(\n",
    "\\begin{matrix}\n",
    "1 & 1 \\\\\n",
    "1 & 0\n",
    "\\end{matrix}\n",
    "\\right)\n",
    "\\left(\n",
    "\\begin{matrix}\n",
    "F_{n+1} \\\\\n",
    "F_{n}\n",
    "\\end{matrix}\n",
    "\\right)\n",
    "\n",
    "$$"
   ]
  },
  {
   "attachments": {},
   "cell_type": "markdown",
   "metadata": {},
   "source": [
    "$A=\\left(\\begin{matrix}1 & 1 \\\\1 & 0\\end{matrix}\\right)$ とすると，\n",
    "$$\n",
    "\\left(\n",
    "\\begin{matrix}\n",
    "F_{n+1} \\\\\n",
    "F_{n}\n",
    "\\end{matrix}\n",
    "\\right)=\n",
    "A^{n}\n",
    "\\left(\n",
    "\\begin{matrix}\n",
    "F_{1} \\\\\n",
    "F_{0}\n",
    "\\end{matrix}\n",
    "\\right)=\n",
    "A^{n}\n",
    "\\left(\n",
    "\\begin{matrix}\n",
    "1 \\\\\n",
    "0\n",
    "\\end{matrix}\n",
    "\\right)\n",
    "\n",
    "$$\n"
   ]
  },
  {
   "cell_type": "code",
   "execution_count": 73,
   "metadata": {},
   "outputs": [],
   "source": [
    "# フィボナッチ数列\n",
    "\n",
    "import numpy as np\n",
    "\n",
    "n: int\n",
    "\n",
    "def solve() -> None:\n",
    "    a = np.array([\n",
    "        [1, 1],\n",
    "        [1, 0],\n",
    "    ])\n",
    "    A = (np.linalg.matrix_power(a, n) @ np.array([[1], [0]]))[1][0] % 10 ** 4\n",
    "    print(A)\n"
   ]
  },
  {
   "cell_type": "code",
   "execution_count": 74,
   "metadata": {},
   "outputs": [
    {
     "name": "stdout",
     "output_type": "stream",
     "text": [
      "55\n"
     ]
    }
   ],
   "source": [
    "n = 10\n",
    "solve()"
   ]
  },
  {
   "attachments": {},
   "cell_type": "markdown",
   "metadata": {},
   "source": [
    "一般の$m$項間漸化式の場合，漸化式を$$a_{n+m}=\\sum_{i=0}^{m-1}b_{i}a_{n+i}$$とすると，行列を用いて\n",
    "\n",
    "$$\n",
    "\\left(\n",
    "\\begin{matrix}\n",
    "a_{n+m} \\\\\n",
    "a_{n+m-1} \\\\\n",
    "\\vdots \\\\\n",
    "a_{n+1}\n",
    "\\end{matrix}\n",
    "\\right)=\n",
    "\\left(\n",
    "\\begin{matrix}\n",
    "b_{m-1} & \\cdots & b_{1} & b_{0} \\\\\n",
    "1 & \\cdots & 0 & 0 \\\\\n",
    "\\vdots & \\ddots & \\vdots & \\vdots \\\\\n",
    "0 & \\cdots & 1 & 0\n",
    "\\end{matrix}\n",
    "\\right)\n",
    "\\left(\n",
    "\\begin{matrix}\n",
    "a_{n+m-1} \\\\\n",
    "a_{n+m-2} \\\\\n",
    "\\vdots \\\\\n",
    "a_{n}\n",
    "\\end{matrix}\n",
    "\\right)\n",
    "$$\n",
    "\n",
    "と表せる．漸化式に定数項がある場合は，\n",
    "\n",
    "$$\n",
    "\\left(\n",
    "\\begin{matrix}\n",
    "a_{n+m} \\\\\n",
    "a_{n+m-1} \\\\\n",
    "\\vdots \\\\\n",
    "a_{n+1} \\\\\n",
    "1\n",
    "\\end{matrix}\n",
    "\\right)=\n",
    "\\left(\n",
    "\\begin{matrix}\n",
    "b_{m-1} & \\cdots & b_{1} & b_{0} & c \\\\\n",
    "1 & \\cdots & 0 & 0 & 0 \\\\\n",
    "\\vdots & \\ddots & \\vdots & \\vdots & \\vdots \\\\\n",
    "0 & \\cdots & 1 & 0 & 0 \\\\\n",
    "0 & \\cdots & 0 & 0 & 1\n",
    "\\end{matrix}\n",
    "\\right)\n",
    "\\left(\n",
    "\\begin{matrix}\n",
    "a_{n+m-1} \\\\\n",
    "a_{n+m-2} \\\\\n",
    "\\vdots \\\\\n",
    "a_{n} \\\\\n",
    "1\n",
    "\\end{matrix}\n",
    "\\right)\n",
    "$$\n",
    "となる．"
   ]
  },
  {
   "attachments": {},
   "cell_type": "markdown",
   "metadata": {},
   "source": [
    "### Blocks"
   ]
  },
  {
   "attachments": {},
   "cell_type": "markdown",
   "metadata": {},
   "source": [
    "**POINTS**\n",
    "\n",
    "左から順に塗る．$i$個目までを，\n",
    "\n",
    "- <span style=\"color: red;\">赤</span>・<span style=\"color: green;\">緑</span>ともに偶数個になるように塗る総数を $a_{i}$\n",
    "- <span style=\"color: red;\">赤</span>・<span style=\"color: green;\">緑</span>の片方のみが奇数個となるように塗る総数を $b_{i}$\n",
    "- <span style=\"color: red;\">赤</span>・<span style=\"color: green;\">緑</span>ともに奇数個になるように塗る総数を $c_{i}$\n",
    "\n",
    "とすると，$i+1$個目までを<span style=\"color: red;\">赤</span>・<span style=\"color: green;\">緑</span>ともに奇数個となるように塗るには，\n",
    "\n",
    "- $i$個目までを<span style=\"color: red;\">赤</span>・<span style=\"color: green;\">緑</span>ともに奇数個になるように塗った上で，$i+1$個目を<span style=\"color: blue;\">青</span>もしくは<span style=\"color: yellow;\">黄色</span>で塗る\n",
    "- $i$個目までを<span style=\"color: red;\">赤</span>・<span style=\"color: green;\">緑</span>の片方が奇数個となるように塗った上で，$i+1$個目を<span style=\"color: red;\">赤</span>・<span style=\"color: green;\">緑</span>のうち奇数個の方で塗る\n",
    "\n",
    "の2通りがあり，$$a_{i+1}=2\\times a_{i}+b_{i}$$が成り立つ．同様にして，\n",
    "\n",
    "$$b_{i+1}=2\\times a_{i}+2\\times b_{i}+2\\times c_{i}$$\n",
    "$$c_{i+1}=b_{i}+2\\times c_{i}$$\n",
    "\n",
    "も成り立つ．"
   ]
  },
  {
   "cell_type": "code",
   "execution_count": 70,
   "metadata": {},
   "outputs": [],
   "source": [
    "# Blocks\n",
    "\n",
    "import numpy as np\n",
    "\n",
    "n: int\n",
    "\n",
    "def solve() -> None:\n",
    "    a = np.array([\n",
    "        [2, 1, 0],\n",
    "        [2, 2, 2],\n",
    "        [0, 1, 2],\n",
    "    ])\n",
    "    A = np.linalg.matrix_power(a, n)[0][0] % 10 ** 4\n",
    "    print(A)\n"
   ]
  },
  {
   "cell_type": "code",
   "execution_count": 71,
   "metadata": {},
   "outputs": [
    {
     "name": "stdout",
     "output_type": "stream",
     "text": [
      "2\n",
      "6\n"
     ]
    }
   ],
   "source": [
    "n = 1\n",
    "solve()\n",
    "n = 2\n",
    "solve()"
   ]
  },
  {
   "attachments": {},
   "cell_type": "markdown",
   "metadata": {},
   "source": [
    "### グラフの長さkのパスの列挙"
   ]
  },
  {
   "attachments": {},
   "cell_type": "markdown",
   "metadata": {},
   "source": [
    "**POINT**\n",
    "\n",
    "- i-kパスの個数とk-jパスの個数を掛け合わせると，i-jパスの個数となる\n",
    "\n",
    "$$G_{k_1+k_2}[u][v]=\\sum_{w=1}^{n} G_{k_1}[u][w]\\times G_{k_2}[w][v]$$\n",
    "\n",
    "- 上式は行列の積の定義そのもの"
   ]
  },
  {
   "cell_type": "code",
   "execution_count": null,
   "metadata": {},
   "outputs": [],
   "source": [
    "# グラフの長さkのパスの個数\n",
    "\n",
    "..."
   ]
  },
  {
   "attachments": {},
   "cell_type": "markdown",
   "metadata": {},
   "source": [
    "#### Matrix Power Series"
   ]
  },
  {
   "cell_type": "code",
   "execution_count": null,
   "metadata": {},
   "outputs": [],
   "source": [
    "# Matrix Power Series\n",
    "\n",
    "..."
   ]
  },
  {
   "attachments": {},
   "cell_type": "markdown",
   "metadata": {},
   "source": [
    "## データ構造を用いて高速化"
   ]
  },
  {
   "cell_type": "code",
   "execution_count": 1,
   "metadata": {},
   "outputs": [
    {
     "data": {
      "text/plain": [
       "Ellipsis"
      ]
     },
     "execution_count": 1,
     "metadata": {},
     "output_type": "execute_result"
    }
   ],
   "source": [
    "..."
   ]
  }
 ],
 "metadata": {
  "kernelspec": {
   "display_name": "Python 3",
   "language": "python",
   "name": "python3"
  },
  "language_info": {
   "codemirror_mode": {
    "name": "ipython",
    "version": 3
   },
   "file_extension": ".py",
   "mimetype": "text/x-python",
   "name": "python",
   "nbconvert_exporter": "python",
   "pygments_lexer": "ipython3",
   "version": "3.10.8 (tags/v3.10.8:aaaf517, Oct 11 2022, 16:50:30) [MSC v.1933 64 bit (AMD64)]"
  },
  "orig_nbformat": 4,
  "vscode": {
   "interpreter": {
    "hash": "120702f7e6053f051863eda686c41cf05b980199455e680d50b566abedd1c5d9"
   }
  }
 },
 "nbformat": 4,
 "nbformat_minor": 2
}
